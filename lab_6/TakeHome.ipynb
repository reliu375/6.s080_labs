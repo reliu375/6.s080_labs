{
 "cells": [
  {
   "cell_type": "code",
   "execution_count": 1,
   "metadata": {
    "scrolled": true
   },
   "outputs": [],
   "source": [
    "import time\n",
    "from time import perf_counter\n",
    "\n",
    "# Data processing.\n",
    "import json\n",
    "import numpy as np\n",
    "import pandas as pd\n",
    "\n",
    "# Q6: For loading multiple CSVs into a single (pandas) dataframe.\n",
    "import glob\n",
    "import os\n",
    "\n",
    "# Plotting.\n",
    "import matplotlib.pyplot as plt\n",
    "%matplotlib notebook\n",
    "import seaborn as sns\n",
    "sns.set_style('whitegrid')\n",
    "\n",
    "# \"Vanilla\" python parallelism.\n",
    "import multiprocessing\n",
    "\n",
    "# Scalable data analytics: dask.\n",
    "import dask\n",
    "import dask.bag as db\n",
    "import dask.dataframe as dd\n",
    "from dask.distributed import Client, LocalCluster\n",
    "import graphviz\n",
    "\n",
    "# Unused: scalable data analytics using Spark.\n",
    "#from pyspark.sql import SparkSession\n",
    "\n",
    "# For GC large pandas dataframes after use.\n",
    "import gc\n",
    "\n",
    "# Ignore warnings.\n",
    "import warnings\n",
    "warnings.simplefilter(\"ignore\")\n",
    "\n",
    "import random\n",
    "random.seed(1)"
   ]
  },
  {
   "cell_type": "markdown",
   "metadata": {},
   "source": [
    "# Q2"
   ]
  },
  {
   "cell_type": "markdown",
   "metadata": {},
   "source": [
    "Using the same timeseries dask dataframe from in-class portion, compute a rolling 5m average y value for data only from January 2018. How does the min and the max runtimes you observed using dask compare to what you observed when using pandas? (35 pts)"
   ]
  },
  {
   "cell_type": "markdown",
   "metadata": {},
   "source": [
    "### Pandas"
   ]
  },
  {
   "cell_type": "code",
   "execution_count": 15,
   "metadata": {},
   "outputs": [
    {
     "name": "stdout",
     "output_type": "stream",
     "text": [
      "CPU times: user 1.5 s, sys: 199 ms, total: 1.7 s\n",
      "Wall time: 1.61 s\n"
     ]
    }
   ],
   "source": [
    "%%time\n",
    "\n",
    "dti = pd.date_range(start='2018-01-01',\n",
    "                    end='2018-01-31',\n",
    "                    freq='1s')\n",
    "df = pd.DataFrame(index=dti, columns=['x', 'y', 'int'])\n",
    "df['x'] = np.random.randint(0,1000, size=len(df))/1000\n",
    "df['y'] = np.random.randint(0,1000, size=len(df))/1000\n",
    "df['int'] = np.random.randint(0,1000, size=len(df))"
   ]
  },
  {
   "cell_type": "code",
   "execution_count": 17,
   "metadata": {
    "scrolled": true
   },
   "outputs": [
    {
     "name": "stdout",
     "output_type": "stream",
     "text": [
      "\n",
      "Min Time: 83.54770000005374 ms\n",
      "Max Time: 134.52922100009346 ms\n"
     ]
    }
   ],
   "source": [
    "times = []\n",
    "for i in range(50):\n",
    "    timeStart = perf_counter()\n",
    "    avg = df['y'].rolling('5min').mean()\n",
    "    timeDelta = (perf_counter()-timeStart)*1000\n",
    "    times.append(timeDelta)\n",
    "\n",
    "print(\"Min Time:\", min(times), \"ms\")\n",
    "print(\"Max Time:\", max(times), \"ms\")"
   ]
  },
  {
   "cell_type": "markdown",
   "metadata": {},
   "source": [
    "### Dask"
   ]
  },
  {
   "cell_type": "code",
   "execution_count": 18,
   "metadata": {},
   "outputs": [
    {
     "name": "stdout",
     "output_type": "stream",
     "text": [
      "CPU times: user 17.4 ms, sys: 16.1 ms, total: 33.6 ms\n",
      "Wall time: 39.6 ms\n"
     ]
    }
   ],
   "source": [
    "%%time\n",
    "\n",
    "dd_df = dd.demo.make_timeseries(start='2018-01-01',\n",
    "                                end='2018-01-31',\n",
    "                                dtypes={'x': float, 'y': float, 'int': int},\n",
    "                                freq='1s',\n",
    "                                partition_freq='24h')"
   ]
  },
  {
   "cell_type": "code",
   "execution_count": 23,
   "metadata": {},
   "outputs": [
    {
     "name": "stdout",
     "output_type": "stream",
     "text": [
      "4 Core\n",
      "Min Time: 6.777168000098754 ms\n",
      "Max Time: 19.38227599998754 ms\n",
      "\n",
      "2 Core\n",
      "Min Time: 7.018462000132786 ms\n",
      "Max Time: 63.5250420000375 ms\n",
      "\n",
      "1 Core\n",
      "Min Time: 7.081581999955233 ms\n",
      "Max Time: 73.36188800013588 ms\n",
      "\n"
     ]
    }
   ],
   "source": [
    "cores = [4, 2, 1]\n",
    "cluster = LocalCluster(ip=None, n_workers=4, processes=True)\n",
    "client = Client(cluster)\n",
    "\n",
    "avgTime = []\n",
    "for workers in cores:\n",
    "    print(workers, \"Core\")\n",
    "    cluster.scale(workers)\n",
    "    time.sleep(1)\n",
    "    \n",
    "    times = []\n",
    "    for i in range(50):\n",
    "        timeStart = perf_counter()\n",
    "        avg = dd_df['y'].rolling('5min').mean()\n",
    "        timeDelta = (perf_counter()-timeStart)*1000\n",
    "        times.append(timeDelta)\n",
    "\n",
    "    avgTime.append(sum(times)/len(times))\n",
    "    print(\"Min Time:\", min(times), \"ms\")\n",
    "    print(\"Max Time:\", max(times), \"ms\")\n",
    "    print()"
   ]
  },
  {
   "cell_type": "code",
   "execution_count": 33,
   "metadata": {},
   "outputs": [
    {
     "data": {
      "text/plain": [
       "Text(0, 0.5, 'Time (ms)')"
      ]
     },
     "execution_count": 33,
     "metadata": {},
     "output_type": "execute_result"
    },
    {
     "data": {
      "image/png": "[encoded data removed]",
      "text/plain": [
       "<Figure size 360x360 with 1 Axes>"
      ]
     },
     "metadata": {
      "needs_background": "light"
     },
     "output_type": "display_data"
    }
   ],
   "source": [
    "plt.figure(figsize=(5,5))\n",
    "plt.title(\"Cores vs Speed\")\n",
    "plt.plot([4, 2, 1], avgTime)\n",
    "plt.xticks(range(1, 5))\n",
    "plt.xlabel('Cores')\n",
    "plt.ylabel(\"Time (ms)\")"
   ]
  },
  {
   "cell_type": "markdown",
   "metadata": {},
   "source": [
    "# Q3"
   ]
  },
  {
   "cell_type": "markdown",
   "metadata": {},
   "source": [
    "Using the same mybinder.org JSON data from in-class portion: who were the top 2 providers of notebooks in August 2019, and how many total runs did each of the 2 have?"
   ]
  },
  {
   "cell_type": "code",
   "execution_count": 28,
   "metadata": {},
   "outputs": [],
   "source": [
    "urls = (db.read_text('https://archive.analytics.mybinder.org/index.jsonl')\n",
    "          .map(json.loads).pluck('name').compute())\n",
    "urls = ['https://archive.analytics.mybinder.org/' + u for u in urls]\n",
    "notebook_runs = db.read_text(urls).map(json.loads)"
   ]
  },
  {
   "cell_type": "markdown",
   "metadata": {},
   "source": [
    "### Dask"
   ]
  },
  {
   "cell_type": "code",
   "execution_count": 29,
   "metadata": {},
   "outputs": [
    {
     "name": "stdout",
     "output_type": "stream",
     "text": [
      "4 Core\n",
      "\n",
      "Top-2 using dask dataframe (ms): 147760.25749400014\n",
      "\n",
      "results:\n",
      "GitHub    374145\n",
      "Gist        5894\n",
      "Name: provider, dtype: int64\n",
      "\n",
      "2 Core\n"
     ]
    },
    {
     "name": "stderr",
     "output_type": "stream",
     "text": [
      "distributed.comm.tcp - WARNING - Closing dangling stream in <TCP  local=tcp://127.0.0.1:60520 remote=tcp://127.0.0.1:42821>\n",
      "distributed.comm.tcp - WARNING - Closing dangling stream in <TCP  local=tcp://127.0.0.1:60524 remote=tcp://127.0.0.1:42821>\n",
      "distributed.comm.tcp - WARNING - Closing dangling stream in <TCP  local=tcp://127.0.0.1:60526 remote=tcp://127.0.0.1:42821>\n",
      "distributed.comm.tcp - WARNING - Closing dangling stream in <TCP  local=tcp://127.0.0.1:60528 remote=tcp://127.0.0.1:42821>\n",
      "distributed.comm.tcp - WARNING - Closing dangling stream in <TCP  local=tcp://127.0.0.1:60532 remote=tcp://127.0.0.1:42821>\n",
      "distributed.comm.tcp - WARNING - Closing dangling stream in <TCP  local=tcp://127.0.0.1:60534 remote=tcp://127.0.0.1:42821>\n",
      "distributed.comm.tcp - WARNING - Closing dangling stream in <TCP  local=tcp://127.0.0.1:60536 remote=tcp://127.0.0.1:42821>\n",
      "distributed.comm.tcp - WARNING - Closing dangling stream in <TCP  local=tcp://127.0.0.1:60538 remote=tcp://127.0.0.1:42821>\n",
      "distributed.comm.tcp - WARNING - Closing dangling stream in <TCP  local=tcp://127.0.0.1:60540 remote=tcp://127.0.0.1:42821>\n",
      "distributed.comm.tcp - WARNING - Closing dangling stream in <TCP  local=tcp://127.0.0.1:60542 remote=tcp://127.0.0.1:42821>\n",
      "distributed.comm.tcp - WARNING - Closing dangling stream in <TCP  local=tcp://127.0.0.1:60544 remote=tcp://127.0.0.1:42821>\n",
      "distributed.comm.tcp - WARNING - Closing dangling stream in <TCP  local=tcp://127.0.0.1:60548 remote=tcp://127.0.0.1:42821>\n"
     ]
    },
    {
     "name": "stdout",
     "output_type": "stream",
     "text": [
      "\n",
      "Top-2 using dask dataframe (ms): 235476.32858299994\n",
      "\n",
      "results:\n",
      "GitHub    374145\n",
      "Gist        5894\n",
      "Name: provider, dtype: int64\n",
      "\n",
      "1 Core\n",
      "\n",
      "Top-2 using dask dataframe (ms): 359509.18714399997\n",
      "\n",
      "results:\n",
      "GitHub    374145\n",
      "Gist        5894\n",
      "Name: provider, dtype: int64\n",
      "\n"
     ]
    }
   ],
   "source": [
    "cores = [4, 2, 1]\n",
    "cluster = LocalCluster(ip=None, n_workers=4, processes=True)\n",
    "client = Client(cluster)\n",
    "\n",
    "rTimes = []\n",
    "for workers in cores:\n",
    "    print(workers, \"Core\")\n",
    "    cluster.scale(workers)\n",
    "    time.sleep(1)\n",
    "\n",
    "    t1_start = perf_counter()\n",
    "    dd_df = notebook_runs.to_dataframe()\n",
    "    dd_df = dd_df[(dd_df['timestamp'].str.startswith('2019-08'))]\n",
    "    top_runs = (dd_df.provider.value_counts()\n",
    "                     .nlargest(2)\n",
    "                     .compute())\n",
    "    t1_stop = perf_counter()\n",
    "    \n",
    "    rTime = ((t1_stop - t1_start)*1000)\n",
    "    rTimes.append(rTime)\n",
    "    print('\\nTop-2 using dask dataframe (ms): %s\\n' % rTime)\n",
    "    print('results:')\n",
    "    print(top_runs)\n",
    "    print()"
   ]
  },
  {
   "cell_type": "code",
   "execution_count": 36,
   "metadata": {},
   "outputs": [
    {
     "data": {
      "image/png": "[encoded data removed]",
      "text/plain": [
       "<Figure size 360x360 with 1 Axes>"
      ]
     },
     "metadata": {
      "needs_background": "light"
     },
     "output_type": "display_data"
    }
   ],
   "source": [
    "plt.figure(figsize=(5,5))\n",
    "plt.title(\"Cores vs Speed\")\n",
    "plt.plot([4, 2, 1], rTimes)\n",
    "plt.xticks(range(1, 5))\n",
    "plt.xlabel('Cores')\n",
    "plt.ylabel(\"Time (ms)\")\n",
    "plt.show()"
   ]
  },
  {
   "cell_type": "code",
   "execution_count": 35,
   "metadata": {},
   "outputs": [
    {
     "data": {
      "image/png": "[encoded data removed]",
      "text/plain": [
       "<Figure size 360x360 with 1 Axes>"
      ]
     },
     "metadata": {
      "needs_background": "light"
     },
     "output_type": "display_data"
    }
   ],
   "source": [
    "plt.figure(figsize=(5,5))\n",
    "plt.title(\"Cores vs Speed\")\n",
    "plt.plot([4, 2, 1], np.array(rTimes)/1000/60)\n",
    "plt.xticks(range(1, 5))\n",
    "plt.xlabel('Cores')\n",
    "plt.ylabel(\"Time (ms)\")\n",
    "plt.show()"
   ]
  },
  {
   "cell_type": "code",
   "execution_count": null,
   "metadata": {},
   "outputs": [],
   "source": []
  }
 ],
 "metadata": {
  "kernelspec": {
   "display_name": "Python 3",
   "language": "python",
   "name": "python3"
  },
  "language_info": {
   "codemirror_mode": {
    "name": "ipython",
    "version": 3
   },
   "file_extension": ".py",
   "mimetype": "text/x-python",
   "name": "python",
   "nbconvert_exporter": "python",
   "pygments_lexer": "ipython3",
   "version": "3.6.8"
  }
 },
 "nbformat": 4,
 "nbformat_minor": 2
}
