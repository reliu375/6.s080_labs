{
 "cells": [
  {
   "cell_type": "markdown",
   "metadata": {},
   "source": [
    "# ML Reverse Lecture\n",
    "\n",
    "In this lab we will look at some examples on how to use ML for classification tasks over a music dataset.\n",
    "\n",
    "Specifically, we will use a Kaggle dataset with 218k songs [fetched from Spotify](https://github.com/tgel0/spotify-data). It has a schema that is almost identical to the one we used for lab 2, but with two additional columns: `genre`, and `popularity`. Schema columns are described in the [Spotify API docs](https://developer.spotify.com/documentation/web-api/reference/tracks/get-audio-features/).\n",
    "\n",
    "First, we will do some data exploration over the top 1k most popular songs in the dataset. Our goal in this phase is to understand some of the characteristics that these most popular songs have in common. We'll use visualization techniques and unsupervised ML (k-means clustering, PCA) to better understand the relationship between some of the features.\n",
    "\n",
    "Next, we'll try out a genre prediction task on the entire 218k songs dataset. We'll use supervised ML (classification) for this, and give you a chance to try out the same problem using regression.\n",
    "\n",
    "Finally, we'll see if we can use what we learned during the genre prediction task to try and predict song popularity.\n",
    "\n",
    "\n",
    "## Running this notebook\n",
    "\n",
    "To execute code from a cell, you can either click `Run` at the top, or type `shift+Enter` after clicking a cell.  You can either run the entire notebook (`Restart & Run All` from the `Kernel` drop-down), or run each cell individually.  If you choose the latter, note that it is important that you run cells in order, as later cells depend on earlier ones. And to be able to `Run All` successfully, you'll have to write code for answering some of the questions in the notebook.\n",
    "\n",
    "Once you open your notebook on the browser, and check that the cells are rendering correctly (e.g., try running the \"Python packages\" cell below), we're good to go from there."
   ]
  },
  {
   "cell_type": "markdown",
   "metadata": {},
   "source": [
    "## Python packages we'll need\n",
    "\n",
    "First, import the python packages we'll be using for the lab:"
   ]
  },
  {
   "cell_type": "code",
   "execution_count": 1,
   "metadata": {},
   "outputs": [],
   "source": [
    "# Dataframes.\n",
    "import pandas as pd\n",
    "import numpy as np\n",
    "\n",
    "# Plotting.\n",
    "import matplotlib.pyplot as plt\n",
    "#%matplotlib notebook  # for interactive plots\n",
    "%matplotlib inline\n",
    "import seaborn as sns\n",
    "sns.set_style('whitegrid')\n",
    "\n",
    "# ML.\n",
    "from sklearn import tree\n",
    "from sklearn.cluster import DBSCAN, KMeans\n",
    "from sklearn.decomposition import PCA\n",
    "from sklearn.ensemble import RandomForestClassifier\n",
    "from sklearn.metrics import classification_report, make_scorer, accuracy_score, roc_auc_score \n",
    "from sklearn.model_selection import cross_val_score, KFold, train_test_split\n",
    "from sklearn.neighbors import KNeighborsClassifier\n",
    "from sklearn.preprocessing import StandardScaler\n",
    "from sklearn.svm import SVC, LinearSVC\n",
    "from sklearn.tree import DecisionTreeClassifier\n",
    "from sklearn.linear_model import LogisticRegression\n",
    "from xgboost import XGBClassifier\n",
    "\n",
    "# Ignore warnings.\n",
    "import warnings\n",
    "warnings.simplefilter(\"ignore\")"
   ]
  },
  {
   "cell_type": "markdown",
   "metadata": {},
   "source": [
    "## Part 1: data exploration\n",
    "\n",
    "First, we load our dataset into a pandas dataframe. Next, we store the top 1k most popular songs in a separate `top1k` dataframe.\n",
    "\n",
    "**Q1: Filter `df` for the top 1000 songs with largest `popularity` values, and store it on a `top1k` dataframe below.**"
   ]
  },
  {
   "cell_type": "code",
   "execution_count": 2,
   "metadata": {},
   "outputs": [],
   "source": [
    "df = pd.read_csv('data/spotify_songs.csv')\n",
    "\n",
    "# Q1: YOUR CODE GOES HERE.\n",
    "# top1k = (...)\n",
    "\n",
    "# Q1: Sample answer.\n",
    "top1k = df.sort_values('popularity', ascending=False).head(1000)"
   ]
  },
  {
   "cell_type": "markdown",
   "metadata": {},
   "source": [
    "Let's make sure that loading our data worked as we expect. A natural way to do that is to inspect the first few entries with [`head()`](https://pandas.pydata.org/pandas-docs/stable/reference/api/pandas.DataFrame.head.html):"
   ]
  },
  {
   "cell_type": "code",
   "execution_count": 3,
   "metadata": {},
   "outputs": [
    {
     "data": {
      "text/html": [
       "<div>\n",
       "<style scoped>\n",
       "    .dataframe tbody tr th:only-of-type {\n",
       "        vertical-align: middle;\n",
       "    }\n",
       "\n",
       "    .dataframe tbody tr th {\n",
       "        vertical-align: top;\n",
       "    }\n",
       "\n",
       "    .dataframe thead th {\n",
       "        text-align: right;\n",
       "    }\n",
       "</style>\n",
       "<table border=\"1\" class=\"dataframe\">\n",
       "  <thead>\n",
       "    <tr style=\"text-align: right;\">\n",
       "      <th></th>\n",
       "      <th>genre</th>\n",
       "      <th>artist_name</th>\n",
       "      <th>track_name</th>\n",
       "      <th>track_id</th>\n",
       "      <th>popularity</th>\n",
       "      <th>acousticness</th>\n",
       "      <th>danceability</th>\n",
       "      <th>duration_ms</th>\n",
       "      <th>energy</th>\n",
       "      <th>instrumentalness</th>\n",
       "      <th>key</th>\n",
       "      <th>liveness</th>\n",
       "      <th>loudness</th>\n",
       "      <th>mode</th>\n",
       "      <th>speechiness</th>\n",
       "      <th>tempo</th>\n",
       "      <th>time_signature</th>\n",
       "      <th>valence</th>\n",
       "    </tr>\n",
       "  </thead>\n",
       "  <tbody>\n",
       "    <tr>\n",
       "      <th>0</th>\n",
       "      <td>Opera</td>\n",
       "      <td>Giuseppe Verdi</td>\n",
       "      <td>Stiffelio, Act III: Ei fugge! … Lina, pensai c...</td>\n",
       "      <td>7EsKYeHtTc4H4xWiTqSVZA</td>\n",
       "      <td>21</td>\n",
       "      <td>0.986</td>\n",
       "      <td>0.313</td>\n",
       "      <td>490867</td>\n",
       "      <td>0.23100</td>\n",
       "      <td>0.000431</td>\n",
       "      <td>C#</td>\n",
       "      <td>0.0964</td>\n",
       "      <td>-14.287</td>\n",
       "      <td>Major</td>\n",
       "      <td>0.0547</td>\n",
       "      <td>86.001</td>\n",
       "      <td>4/4</td>\n",
       "      <td>0.0886</td>\n",
       "    </tr>\n",
       "    <tr>\n",
       "      <th>1</th>\n",
       "      <td>Opera</td>\n",
       "      <td>Giacomo Puccini</td>\n",
       "      <td>Madama Butterfly / Act 1: ... E soffitto e pareti</td>\n",
       "      <td>7MfmRBvqaW0I6UTxXnad8p</td>\n",
       "      <td>18</td>\n",
       "      <td>0.972</td>\n",
       "      <td>0.360</td>\n",
       "      <td>176797</td>\n",
       "      <td>0.20100</td>\n",
       "      <td>0.028000</td>\n",
       "      <td>D#</td>\n",
       "      <td>0.1330</td>\n",
       "      <td>-19.794</td>\n",
       "      <td>Major</td>\n",
       "      <td>0.0581</td>\n",
       "      <td>131.798</td>\n",
       "      <td>4/4</td>\n",
       "      <td>0.3690</td>\n",
       "    </tr>\n",
       "    <tr>\n",
       "      <th>2</th>\n",
       "      <td>Opera</td>\n",
       "      <td>Giacomo Puccini</td>\n",
       "      <td>Turandot / Act 2: Gloria, gloria, o vincitore</td>\n",
       "      <td>7pBo1GDhIysyUMFXiDVoON</td>\n",
       "      <td>10</td>\n",
       "      <td>0.935</td>\n",
       "      <td>0.168</td>\n",
       "      <td>266184</td>\n",
       "      <td>0.47000</td>\n",
       "      <td>0.020400</td>\n",
       "      <td>C</td>\n",
       "      <td>0.3630</td>\n",
       "      <td>-8.415</td>\n",
       "      <td>Major</td>\n",
       "      <td>0.0383</td>\n",
       "      <td>75.126</td>\n",
       "      <td>3/4</td>\n",
       "      <td>0.0696</td>\n",
       "    </tr>\n",
       "    <tr>\n",
       "      <th>3</th>\n",
       "      <td>Opera</td>\n",
       "      <td>Giuseppe Verdi</td>\n",
       "      <td>Rigoletto, Act IV: Venti scudi hai tu detto?</td>\n",
       "      <td>02mvYZX5aKNzdqEo6jF20m</td>\n",
       "      <td>17</td>\n",
       "      <td>0.961</td>\n",
       "      <td>0.250</td>\n",
       "      <td>288573</td>\n",
       "      <td>0.00605</td>\n",
       "      <td>0.000000</td>\n",
       "      <td>D</td>\n",
       "      <td>0.1200</td>\n",
       "      <td>-33.440</td>\n",
       "      <td>Major</td>\n",
       "      <td>0.0480</td>\n",
       "      <td>76.493</td>\n",
       "      <td>4/4</td>\n",
       "      <td>0.0380</td>\n",
       "    </tr>\n",
       "    <tr>\n",
       "      <th>4</th>\n",
       "      <td>Opera</td>\n",
       "      <td>Giuseppe Verdi</td>\n",
       "      <td>Don Carlo / Act 4: \"Ella giammai m'amò!\"</td>\n",
       "      <td>03TW0jwGMGhUabAjOpB1T9</td>\n",
       "      <td>19</td>\n",
       "      <td>0.985</td>\n",
       "      <td>0.142</td>\n",
       "      <td>629760</td>\n",
       "      <td>0.05800</td>\n",
       "      <td>0.146000</td>\n",
       "      <td>D</td>\n",
       "      <td>0.0969</td>\n",
       "      <td>-23.625</td>\n",
       "      <td>Major</td>\n",
       "      <td>0.0493</td>\n",
       "      <td>172.935</td>\n",
       "      <td>4/4</td>\n",
       "      <td>0.0382</td>\n",
       "    </tr>\n",
       "  </tbody>\n",
       "</table>\n",
       "</div>"
      ],
      "text/plain": [
       "   genre      artist_name                                         track_name  \\\n",
       "0  Opera   Giuseppe Verdi  Stiffelio, Act III: Ei fugge! … Lina, pensai c...   \n",
       "1  Opera  Giacomo Puccini  Madama Butterfly / Act 1: ... E soffitto e pareti   \n",
       "2  Opera  Giacomo Puccini      Turandot / Act 2: Gloria, gloria, o vincitore   \n",
       "3  Opera   Giuseppe Verdi       Rigoletto, Act IV: Venti scudi hai tu detto?   \n",
       "4  Opera   Giuseppe Verdi           Don Carlo / Act 4: \"Ella giammai m'amò!\"   \n",
       "\n",
       "                 track_id  popularity  acousticness  danceability  \\\n",
       "0  7EsKYeHtTc4H4xWiTqSVZA          21         0.986         0.313   \n",
       "1  7MfmRBvqaW0I6UTxXnad8p          18         0.972         0.360   \n",
       "2  7pBo1GDhIysyUMFXiDVoON          10         0.935         0.168   \n",
       "3  02mvYZX5aKNzdqEo6jF20m          17         0.961         0.250   \n",
       "4  03TW0jwGMGhUabAjOpB1T9          19         0.985         0.142   \n",
       "\n",
       "   duration_ms   energy  instrumentalness key  liveness  loudness   mode  \\\n",
       "0       490867  0.23100          0.000431  C#    0.0964   -14.287  Major   \n",
       "1       176797  0.20100          0.028000  D#    0.1330   -19.794  Major   \n",
       "2       266184  0.47000          0.020400   C    0.3630    -8.415  Major   \n",
       "3       288573  0.00605          0.000000   D    0.1200   -33.440  Major   \n",
       "4       629760  0.05800          0.146000   D    0.0969   -23.625  Major   \n",
       "\n",
       "   speechiness    tempo time_signature  valence  \n",
       "0       0.0547   86.001            4/4   0.0886  \n",
       "1       0.0581  131.798            4/4   0.3690  \n",
       "2       0.0383   75.126            3/4   0.0696  \n",
       "3       0.0480   76.493            4/4   0.0380  \n",
       "4       0.0493  172.935            4/4   0.0382  "
      ]
     },
     "execution_count": 3,
     "metadata": {},
     "output_type": "execute_result"
    }
   ],
   "source": [
    "df.head()"
   ]
  },
  {
   "cell_type": "markdown",
   "metadata": {},
   "source": [
    "We can see that most of these columns are familiar to us, as they were present in our `top2018.csv` dataset from lab 2. The additional columns here are only `genre` and `popularity`.\n",
    "\n",
    "Let's examine the data types for each of the columns using [`info()`](https://pandas.pydata.org/pandas-docs/stable/reference/api/pandas.DataFrame.info.html):"
   ]
  },
  {
   "cell_type": "code",
   "execution_count": 4,
   "metadata": {},
   "outputs": [
    {
     "name": "stdout",
     "output_type": "stream",
     "text": [
      "<class 'pandas.core.frame.DataFrame'>\n",
      "RangeIndex: 228159 entries, 0 to 228158\n",
      "Data columns (total 18 columns):\n",
      "genre               228159 non-null object\n",
      "artist_name         228159 non-null object\n",
      "track_name          228159 non-null object\n",
      "track_id            228159 non-null object\n",
      "popularity          228159 non-null int64\n",
      "acousticness        228159 non-null float64\n",
      "danceability        228159 non-null float64\n",
      "duration_ms         228159 non-null int64\n",
      "energy              228159 non-null float64\n",
      "instrumentalness    228159 non-null float64\n",
      "key                 228159 non-null object\n",
      "liveness            228159 non-null float64\n",
      "loudness            228159 non-null float64\n",
      "mode                228159 non-null object\n",
      "speechiness         228159 non-null float64\n",
      "tempo               228159 non-null float64\n",
      "time_signature      228159 non-null object\n",
      "valence             228159 non-null float64\n",
      "dtypes: float64(9), int64(2), object(7)\n",
      "memory usage: 31.3+ MB\n"
     ]
    }
   ],
   "source": [
    "df.info()"
   ]
  },
  {
   "cell_type": "markdown",
   "metadata": {},
   "source": [
    "The output of `df.info()` tells us that we have:\n",
    "- 7 `object` columns: (`genre`, `artist_name`, `track_name`, `track_id`, `key`, and `time_signature`)\n",
    "- 2 `int64` columns (`popularity` and `duration_ms`)\n",
    "- 9 `float64` (remaining columns)\n",
    "\n",
    "We can also take a look at aggregate stats for each of the numerical columns (both discrete `int64`, and continuous `float64`) the dataset has by running [`describe()`](https://pandas.pydata.org/pandas-docs/stable/reference/api/pandas.DataFrame.describe.html):"
   ]
  },
  {
   "cell_type": "code",
   "execution_count": 5,
   "metadata": {},
   "outputs": [
    {
     "data": {
      "text/html": [
       "<div>\n",
       "<style scoped>\n",
       "    .dataframe tbody tr th:only-of-type {\n",
       "        vertical-align: middle;\n",
       "    }\n",
       "\n",
       "    .dataframe tbody tr th {\n",
       "        vertical-align: top;\n",
       "    }\n",
       "\n",
       "    .dataframe thead th {\n",
       "        text-align: right;\n",
       "    }\n",
       "</style>\n",
       "<table border=\"1\" class=\"dataframe\">\n",
       "  <thead>\n",
       "    <tr style=\"text-align: right;\">\n",
       "      <th></th>\n",
       "      <th>popularity</th>\n",
       "      <th>acousticness</th>\n",
       "      <th>danceability</th>\n",
       "      <th>duration_ms</th>\n",
       "      <th>energy</th>\n",
       "      <th>instrumentalness</th>\n",
       "      <th>liveness</th>\n",
       "      <th>loudness</th>\n",
       "      <th>speechiness</th>\n",
       "      <th>tempo</th>\n",
       "      <th>valence</th>\n",
       "    </tr>\n",
       "  </thead>\n",
       "  <tbody>\n",
       "    <tr>\n",
       "      <th>count</th>\n",
       "      <td>228159.000000</td>\n",
       "      <td>228159.000000</td>\n",
       "      <td>228159.000000</td>\n",
       "      <td>2.281590e+05</td>\n",
       "      <td>228159.000000</td>\n",
       "      <td>228159.000000</td>\n",
       "      <td>228159.000000</td>\n",
       "      <td>228159.000000</td>\n",
       "      <td>228159.000000</td>\n",
       "      <td>228159.000000</td>\n",
       "      <td>228159.000000</td>\n",
       "    </tr>\n",
       "    <tr>\n",
       "      <th>mean</th>\n",
       "      <td>44.209130</td>\n",
       "      <td>0.351200</td>\n",
       "      <td>0.554198</td>\n",
       "      <td>2.366092e+05</td>\n",
       "      <td>0.580967</td>\n",
       "      <td>0.137310</td>\n",
       "      <td>0.214638</td>\n",
       "      <td>-9.354658</td>\n",
       "      <td>0.122442</td>\n",
       "      <td>117.423062</td>\n",
       "      <td>0.444795</td>\n",
       "    </tr>\n",
       "    <tr>\n",
       "      <th>std</th>\n",
       "      <td>17.276599</td>\n",
       "      <td>0.351385</td>\n",
       "      <td>0.183949</td>\n",
       "      <td>1.166787e+05</td>\n",
       "      <td>0.260577</td>\n",
       "      <td>0.292447</td>\n",
       "      <td>0.196977</td>\n",
       "      <td>5.940994</td>\n",
       "      <td>0.186264</td>\n",
       "      <td>30.712458</td>\n",
       "      <td>0.255397</td>\n",
       "    </tr>\n",
       "    <tr>\n",
       "      <th>min</th>\n",
       "      <td>0.000000</td>\n",
       "      <td>0.000001</td>\n",
       "      <td>0.056900</td>\n",
       "      <td>1.550900e+04</td>\n",
       "      <td>0.000020</td>\n",
       "      <td>0.000000</td>\n",
       "      <td>0.009670</td>\n",
       "      <td>-52.457000</td>\n",
       "      <td>0.022200</td>\n",
       "      <td>30.379000</td>\n",
       "      <td>0.000000</td>\n",
       "    </tr>\n",
       "    <tr>\n",
       "      <th>25%</th>\n",
       "      <td>33.000000</td>\n",
       "      <td>0.030900</td>\n",
       "      <td>0.437000</td>\n",
       "      <td>1.862530e+05</td>\n",
       "      <td>0.405000</td>\n",
       "      <td>0.000000</td>\n",
       "      <td>0.097700</td>\n",
       "      <td>-11.287000</td>\n",
       "      <td>0.036800</td>\n",
       "      <td>92.734000</td>\n",
       "      <td>0.232000</td>\n",
       "    </tr>\n",
       "    <tr>\n",
       "      <th>50%</th>\n",
       "      <td>47.000000</td>\n",
       "      <td>0.205000</td>\n",
       "      <td>0.570000</td>\n",
       "      <td>2.211730e+05</td>\n",
       "      <td>0.618000</td>\n",
       "      <td>0.000037</td>\n",
       "      <td>0.128000</td>\n",
       "      <td>-7.515000</td>\n",
       "      <td>0.050600</td>\n",
       "      <td>115.347000</td>\n",
       "      <td>0.430000</td>\n",
       "    </tr>\n",
       "    <tr>\n",
       "      <th>75%</th>\n",
       "      <td>57.000000</td>\n",
       "      <td>0.689000</td>\n",
       "      <td>0.690000</td>\n",
       "      <td>2.648400e+05</td>\n",
       "      <td>0.793000</td>\n",
       "      <td>0.023400</td>\n",
       "      <td>0.263000</td>\n",
       "      <td>-5.415000</td>\n",
       "      <td>0.109000</td>\n",
       "      <td>138.887000</td>\n",
       "      <td>0.643000</td>\n",
       "    </tr>\n",
       "    <tr>\n",
       "      <th>max</th>\n",
       "      <td>100.000000</td>\n",
       "      <td>0.996000</td>\n",
       "      <td>0.987000</td>\n",
       "      <td>5.552917e+06</td>\n",
       "      <td>0.999000</td>\n",
       "      <td>0.999000</td>\n",
       "      <td>1.000000</td>\n",
       "      <td>1.585000</td>\n",
       "      <td>0.967000</td>\n",
       "      <td>239.848000</td>\n",
       "      <td>1.000000</td>\n",
       "    </tr>\n",
       "  </tbody>\n",
       "</table>\n",
       "</div>"
      ],
      "text/plain": [
       "          popularity   acousticness   danceability   duration_ms  \\\n",
       "count  228159.000000  228159.000000  228159.000000  2.281590e+05   \n",
       "mean       44.209130       0.351200       0.554198  2.366092e+05   \n",
       "std        17.276599       0.351385       0.183949  1.166787e+05   \n",
       "min         0.000000       0.000001       0.056900  1.550900e+04   \n",
       "25%        33.000000       0.030900       0.437000  1.862530e+05   \n",
       "50%        47.000000       0.205000       0.570000  2.211730e+05   \n",
       "75%        57.000000       0.689000       0.690000  2.648400e+05   \n",
       "max       100.000000       0.996000       0.987000  5.552917e+06   \n",
       "\n",
       "              energy  instrumentalness       liveness       loudness  \\\n",
       "count  228159.000000     228159.000000  228159.000000  228159.000000   \n",
       "mean        0.580967          0.137310       0.214638      -9.354658   \n",
       "std         0.260577          0.292447       0.196977       5.940994   \n",
       "min         0.000020          0.000000       0.009670     -52.457000   \n",
       "25%         0.405000          0.000000       0.097700     -11.287000   \n",
       "50%         0.618000          0.000037       0.128000      -7.515000   \n",
       "75%         0.793000          0.023400       0.263000      -5.415000   \n",
       "max         0.999000          0.999000       1.000000       1.585000   \n",
       "\n",
       "         speechiness          tempo        valence  \n",
       "count  228159.000000  228159.000000  228159.000000  \n",
       "mean        0.122442     117.423062       0.444795  \n",
       "std         0.186264      30.712458       0.255397  \n",
       "min         0.022200      30.379000       0.000000  \n",
       "25%         0.036800      92.734000       0.232000  \n",
       "50%         0.050600     115.347000       0.430000  \n",
       "75%         0.109000     138.887000       0.643000  \n",
       "max         0.967000     239.848000       1.000000  "
      ]
     },
     "execution_count": 5,
     "metadata": {},
     "output_type": "execute_result"
    }
   ],
   "source": [
    "df.describe()"
   ]
  },
  {
   "cell_type": "markdown",
   "metadata": {},
   "source": [
    "Except for `popularity`, `duration_ms`, `loudness`, and `tempo`, most of the numerical features are already scaled between 0.0 and 1.0.\n",
    "\n",
    "**Q2: Looking at the documentation for [describe()](https://pandas.pydata.org/pandas-docs/stable/reference/api/pandas.DataFrame.describe.html), what's a command to describe categorical features? Why is the output different for categorical vs numerical features?**"
   ]
  },
  {
   "cell_type": "code",
   "execution_count": 6,
   "metadata": {},
   "outputs": [
    {
     "data": {
      "text/html": [
       "<div>\n",
       "<style scoped>\n",
       "    .dataframe tbody tr th:only-of-type {\n",
       "        vertical-align: middle;\n",
       "    }\n",
       "\n",
       "    .dataframe tbody tr th {\n",
       "        vertical-align: top;\n",
       "    }\n",
       "\n",
       "    .dataframe thead th {\n",
       "        text-align: right;\n",
       "    }\n",
       "</style>\n",
       "<table border=\"1\" class=\"dataframe\">\n",
       "  <thead>\n",
       "    <tr style=\"text-align: right;\">\n",
       "      <th></th>\n",
       "      <th>genre</th>\n",
       "      <th>artist_name</th>\n",
       "      <th>track_name</th>\n",
       "      <th>track_id</th>\n",
       "      <th>key</th>\n",
       "      <th>mode</th>\n",
       "      <th>time_signature</th>\n",
       "    </tr>\n",
       "  </thead>\n",
       "  <tbody>\n",
       "    <tr>\n",
       "      <th>count</th>\n",
       "      <td>228159</td>\n",
       "      <td>228159</td>\n",
       "      <td>228159</td>\n",
       "      <td>228159</td>\n",
       "      <td>228159</td>\n",
       "      <td>228159</td>\n",
       "      <td>228159</td>\n",
       "    </tr>\n",
       "    <tr>\n",
       "      <th>unique</th>\n",
       "      <td>26</td>\n",
       "      <td>13318</td>\n",
       "      <td>130254</td>\n",
       "      <td>153685</td>\n",
       "      <td>12</td>\n",
       "      <td>2</td>\n",
       "      <td>5</td>\n",
       "    </tr>\n",
       "    <tr>\n",
       "      <th>top</th>\n",
       "      <td>Comedy</td>\n",
       "      <td>Giuseppe Verdi</td>\n",
       "      <td>Home</td>\n",
       "      <td>6sVQNUvcVFTXvlk3ec0ngd</td>\n",
       "      <td>C</td>\n",
       "      <td>Major</td>\n",
       "      <td>4/4</td>\n",
       "    </tr>\n",
       "    <tr>\n",
       "      <th>freq</th>\n",
       "      <td>9681</td>\n",
       "      <td>1394</td>\n",
       "      <td>111</td>\n",
       "      <td>10</td>\n",
       "      <td>26538</td>\n",
       "      <td>147123</td>\n",
       "      <td>198092</td>\n",
       "    </tr>\n",
       "  </tbody>\n",
       "</table>\n",
       "</div>"
      ],
      "text/plain": [
       "         genre     artist_name track_name                track_id     key  \\\n",
       "count   228159          228159     228159                  228159  228159   \n",
       "unique      26           13318     130254                  153685      12   \n",
       "top     Comedy  Giuseppe Verdi       Home  6sVQNUvcVFTXvlk3ec0ngd       C   \n",
       "freq      9681            1394        111                      10   26538   \n",
       "\n",
       "          mode time_signature  \n",
       "count   228159         228159  \n",
       "unique       2              5  \n",
       "top      Major            4/4  \n",
       "freq    147123         198092  "
      ]
     },
     "execution_count": 6,
     "metadata": {},
     "output_type": "execute_result"
    }
   ],
   "source": [
    "# Q2: YOUR CODE GOES HERE\n",
    "# df.describe(...)\n",
    "\n",
    "# Q2: Sample answer.\n",
    "df.describe(include=['O'])"
   ]
  },
  {
   "cell_type": "markdown",
   "metadata": {},
   "source": [
    "Next, let's check whether this dataset has missing data in the form of `null`s:\n",
    "\n",
    "**Q3: How would you check whether your data set has null values in any of its columns? Did you find any?**"
   ]
  },
  {
   "cell_type": "code",
   "execution_count": 7,
   "metadata": {},
   "outputs": [
    {
     "data": {
      "text/plain": [
       "genre               0\n",
       "artist_name         0\n",
       "track_name          0\n",
       "track_id            0\n",
       "popularity          0\n",
       "acousticness        0\n",
       "danceability        0\n",
       "duration_ms         0\n",
       "energy              0\n",
       "instrumentalness    0\n",
       "key                 0\n",
       "liveness            0\n",
       "loudness            0\n",
       "mode                0\n",
       "speechiness         0\n",
       "tempo               0\n",
       "time_signature      0\n",
       "valence             0\n",
       "dtype: int64"
      ]
     },
     "execution_count": 7,
     "metadata": {},
     "output_type": "execute_result"
    }
   ],
   "source": [
    "# Q3: YOUR CODE GOES HERE.\n",
    "# df.(...)\n",
    "\n",
    "# Q3: Sample answer.\n",
    "df.isnull().sum()"
   ]
  },
  {
   "cell_type": "markdown",
   "metadata": {},
   "source": [
    "Let's examine the dataset's [correlation matrix](https://pandas.pydata.org/pandas-docs/stable/reference/api/pandas.DataFrame.corr.html) to see how column values co-occur with each other. This can help us spot features that may be predictive of other features in the dataset:"
   ]
  },
  {
   "cell_type": "code",
   "execution_count": 8,
   "metadata": {},
   "outputs": [
    {
     "data": {
      "text/html": [
       "<style  type=\"text/css\" >\n",
       "    #T_9e58dd2c_e61e_11e9_900f_0242ac110002row0_col0 {\n",
       "            background-color:  #023858;\n",
       "            color:  #f1f1f1;\n",
       "        }    #T_9e58dd2c_e61e_11e9_900f_0242ac110002row0_col1 {\n",
       "            background-color:  #e1dfed;\n",
       "            color:  #000000;\n",
       "        }    #T_9e58dd2c_e61e_11e9_900f_0242ac110002row0_col2 {\n",
       "            background-color:  #78abd0;\n",
       "            color:  #000000;\n",
       "        }    #T_9e58dd2c_e61e_11e9_900f_0242ac110002row0_col3 {\n",
       "            background-color:  #f2ecf5;\n",
       "            color:  #000000;\n",
       "        }    #T_9e58dd2c_e61e_11e9_900f_0242ac110002row0_col4 {\n",
       "            background-color:  #4c99c5;\n",
       "            color:  #000000;\n",
       "        }    #T_9e58dd2c_e61e_11e9_900f_0242ac110002row0_col5 {\n",
       "            background-color:  #dedcec;\n",
       "            color:  #000000;\n",
       "        }    #T_9e58dd2c_e61e_11e9_900f_0242ac110002row0_col6 {\n",
       "            background-color:  #fff7fb;\n",
       "            color:  #000000;\n",
       "        }    #T_9e58dd2c_e61e_11e9_900f_0242ac110002row0_col7 {\n",
       "            background-color:  #2a88bc;\n",
       "            color:  #000000;\n",
       "        }    #T_9e58dd2c_e61e_11e9_900f_0242ac110002row0_col8 {\n",
       "            background-color:  #fff7fb;\n",
       "            color:  #000000;\n",
       "        }    #T_9e58dd2c_e61e_11e9_900f_0242ac110002row0_col9 {\n",
       "            background-color:  #c4cbe3;\n",
       "            color:  #000000;\n",
       "        }    #T_9e58dd2c_e61e_11e9_900f_0242ac110002row0_col10 {\n",
       "            background-color:  #b1c2de;\n",
       "            color:  #000000;\n",
       "        }    #T_9e58dd2c_e61e_11e9_900f_0242ac110002row1_col0 {\n",
       "            background-color:  #fff7fb;\n",
       "            color:  #000000;\n",
       "        }    #T_9e58dd2c_e61e_11e9_900f_0242ac110002row1_col1 {\n",
       "            background-color:  #023858;\n",
       "            color:  #f1f1f1;\n",
       "        }    #T_9e58dd2c_e61e_11e9_900f_0242ac110002row1_col2 {\n",
       "            background-color:  #fff7fb;\n",
       "            color:  #000000;\n",
       "        }    #T_9e58dd2c_e61e_11e9_900f_0242ac110002row1_col3 {\n",
       "            background-color:  #e7e3f0;\n",
       "            color:  #000000;\n",
       "        }    #T_9e58dd2c_e61e_11e9_900f_0242ac110002row1_col4 {\n",
       "            background-color:  #fff7fb;\n",
       "            color:  #000000;\n",
       "        }    #T_9e58dd2c_e61e_11e9_900f_0242ac110002row1_col5 {\n",
       "            background-color:  #5a9ec9;\n",
       "            color:  #000000;\n",
       "        }    #T_9e58dd2c_e61e_11e9_900f_0242ac110002row1_col6 {\n",
       "            background-color:  #d2d3e7;\n",
       "            color:  #000000;\n",
       "        }    #T_9e58dd2c_e61e_11e9_900f_0242ac110002row1_col7 {\n",
       "            background-color:  #fff7fb;\n",
       "            color:  #000000;\n",
       "        }    #T_9e58dd2c_e61e_11e9_900f_0242ac110002row1_col8 {\n",
       "            background-color:  #bfc9e1;\n",
       "            color:  #000000;\n",
       "        }    #T_9e58dd2c_e61e_11e9_900f_0242ac110002row1_col9 {\n",
       "            background-color:  #fff7fb;\n",
       "            color:  #000000;\n",
       "        }    #T_9e58dd2c_e61e_11e9_900f_0242ac110002row1_col10 {\n",
       "            background-color:  #fff7fb;\n",
       "            color:  #000000;\n",
       "        }    #T_9e58dd2c_e61e_11e9_900f_0242ac110002row2_col0 {\n",
       "            background-color:  #73a9cf;\n",
       "            color:  #000000;\n",
       "        }    #T_9e58dd2c_e61e_11e9_900f_0242ac110002row2_col1 {\n",
       "            background-color:  #dbdaeb;\n",
       "            color:  #000000;\n",
       "        }    #T_9e58dd2c_e61e_11e9_900f_0242ac110002row2_col2 {\n",
       "            background-color:  #023858;\n",
       "            color:  #f1f1f1;\n",
       "        }    #T_9e58dd2c_e61e_11e9_900f_0242ac110002row2_col3 {\n",
       "            background-color:  #fdf5fa;\n",
       "            color:  #000000;\n",
       "        }    #T_9e58dd2c_e61e_11e9_900f_0242ac110002row2_col4 {\n",
       "            background-color:  #3b92c1;\n",
       "            color:  #000000;\n",
       "        }    #T_9e58dd2c_e61e_11e9_900f_0242ac110002row2_col5 {\n",
       "            background-color:  #f0eaf4;\n",
       "            color:  #000000;\n",
       "        }    #T_9e58dd2c_e61e_11e9_900f_0242ac110002row2_col6 {\n",
       "            background-color:  #e9e5f1;\n",
       "            color:  #000000;\n",
       "        }    #T_9e58dd2c_e61e_11e9_900f_0242ac110002row2_col7 {\n",
       "            background-color:  #2182b9;\n",
       "            color:  #000000;\n",
       "        }    #T_9e58dd2c_e61e_11e9_900f_0242ac110002row2_col8 {\n",
       "            background-color:  #c8cde4;\n",
       "            color:  #000000;\n",
       "        }    #T_9e58dd2c_e61e_11e9_900f_0242ac110002row2_col9 {\n",
       "            background-color:  #d9d8ea;\n",
       "            color:  #000000;\n",
       "        }    #T_9e58dd2c_e61e_11e9_900f_0242ac110002row2_col10 {\n",
       "            background-color:  #2987bc;\n",
       "            color:  #000000;\n",
       "        }    #T_9e58dd2c_e61e_11e9_900f_0242ac110002row3_col0 {\n",
       "            background-color:  #cacee5;\n",
       "            color:  #000000;\n",
       "        }    #T_9e58dd2c_e61e_11e9_900f_0242ac110002row3_col1 {\n",
       "            background-color:  #8cb3d5;\n",
       "            color:  #000000;\n",
       "        }    #T_9e58dd2c_e61e_11e9_900f_0242ac110002row3_col2 {\n",
       "            background-color:  #dedcec;\n",
       "            color:  #000000;\n",
       "        }    #T_9e58dd2c_e61e_11e9_900f_0242ac110002row3_col3 {\n",
       "            background-color:  #023858;\n",
       "            color:  #f1f1f1;\n",
       "        }    #T_9e58dd2c_e61e_11e9_900f_0242ac110002row3_col4 {\n",
       "            background-color:  #a2bcda;\n",
       "            color:  #000000;\n",
       "        }    #T_9e58dd2c_e61e_11e9_900f_0242ac110002row3_col5 {\n",
       "            background-color:  #9ab8d8;\n",
       "            color:  #000000;\n",
       "        }    #T_9e58dd2c_e61e_11e9_900f_0242ac110002row3_col6 {\n",
       "            background-color:  #e1dfed;\n",
       "            color:  #000000;\n",
       "        }    #T_9e58dd2c_e61e_11e9_900f_0242ac110002row3_col7 {\n",
       "            background-color:  #a8bedc;\n",
       "            color:  #000000;\n",
       "        }    #T_9e58dd2c_e61e_11e9_900f_0242ac110002row3_col8 {\n",
       "            background-color:  #e7e3f0;\n",
       "            color:  #000000;\n",
       "        }    #T_9e58dd2c_e61e_11e9_900f_0242ac110002row3_col9 {\n",
       "            background-color:  #e1dfed;\n",
       "            color:  #000000;\n",
       "        }    #T_9e58dd2c_e61e_11e9_900f_0242ac110002row3_col10 {\n",
       "            background-color:  #e7e3f0;\n",
       "            color:  #000000;\n",
       "        }    #T_9e58dd2c_e61e_11e9_900f_0242ac110002row4_col0 {\n",
       "            background-color:  #78abd0;\n",
       "            color:  #000000;\n",
       "        }    #T_9e58dd2c_e61e_11e9_900f_0242ac110002row4_col1 {\n",
       "            background-color:  #fff7fb;\n",
       "            color:  #000000;\n",
       "        }    #T_9e58dd2c_e61e_11e9_900f_0242ac110002row4_col2 {\n",
       "            background-color:  #69a5cc;\n",
       "            color:  #000000;\n",
       "        }    #T_9e58dd2c_e61e_11e9_900f_0242ac110002row4_col3 {\n",
       "            background-color:  #f5eef6;\n",
       "            color:  #000000;\n",
       "        }    #T_9e58dd2c_e61e_11e9_900f_0242ac110002row4_col4 {\n",
       "            background-color:  #023858;\n",
       "            color:  #f1f1f1;\n",
       "        }    #T_9e58dd2c_e61e_11e9_900f_0242ac110002row4_col5 {\n",
       "            background-color:  #f2ecf5;\n",
       "            color:  #000000;\n",
       "        }    #T_9e58dd2c_e61e_11e9_900f_0242ac110002row4_col6 {\n",
       "            background-color:  #b8c6e0;\n",
       "            color:  #000000;\n",
       "        }    #T_9e58dd2c_e61e_11e9_900f_0242ac110002row4_col7 {\n",
       "            background-color:  #045585;\n",
       "            color:  #f1f1f1;\n",
       "        }    #T_9e58dd2c_e61e_11e9_900f_0242ac110002row4_col8 {\n",
       "            background-color:  #c6cce3;\n",
       "            color:  #000000;\n",
       "        }    #T_9e58dd2c_e61e_11e9_900f_0242ac110002row4_col9 {\n",
       "            background-color:  #a5bddb;\n",
       "            color:  #000000;\n",
       "        }    #T_9e58dd2c_e61e_11e9_900f_0242ac110002row4_col10 {\n",
       "            background-color:  #4897c4;\n",
       "            color:  #000000;\n",
       "        }    #T_9e58dd2c_e61e_11e9_900f_0242ac110002row5_col0 {\n",
       "            background-color:  #eae6f1;\n",
       "            color:  #000000;\n",
       "        }    #T_9e58dd2c_e61e_11e9_900f_0242ac110002row5_col1 {\n",
       "            background-color:  #3f93c2;\n",
       "            color:  #000000;\n",
       "        }    #T_9e58dd2c_e61e_11e9_900f_0242ac110002row5_col2 {\n",
       "            background-color:  #fdf5fa;\n",
       "            color:  #000000;\n",
       "        }    #T_9e58dd2c_e61e_11e9_900f_0242ac110002row5_col3 {\n",
       "            background-color:  #dbdaeb;\n",
       "            color:  #000000;\n",
       "        }    #T_9e58dd2c_e61e_11e9_900f_0242ac110002row5_col4 {\n",
       "            background-color:  #dddbec;\n",
       "            color:  #000000;\n",
       "        }    #T_9e58dd2c_e61e_11e9_900f_0242ac110002row5_col5 {\n",
       "            background-color:  #023858;\n",
       "            color:  #f1f1f1;\n",
       "        }    #T_9e58dd2c_e61e_11e9_900f_0242ac110002row5_col6 {\n",
       "            background-color:  #f6eff7;\n",
       "            color:  #000000;\n",
       "        }    #T_9e58dd2c_e61e_11e9_900f_0242ac110002row5_col7 {\n",
       "            background-color:  #efe9f3;\n",
       "            color:  #000000;\n",
       "        }    #T_9e58dd2c_e61e_11e9_900f_0242ac110002row5_col8 {\n",
       "            background-color:  #fdf5fa;\n",
       "            color:  #000000;\n",
       "        }    #T_9e58dd2c_e61e_11e9_900f_0242ac110002row5_col9 {\n",
       "            background-color:  #efe9f3;\n",
       "            color:  #000000;\n",
       "        }    #T_9e58dd2c_e61e_11e9_900f_0242ac110002row5_col10 {\n",
       "            background-color:  #fbf4f9;\n",
       "            color:  #000000;\n",
       "        }    #T_9e58dd2c_e61e_11e9_900f_0242ac110002row6_col0 {\n",
       "            background-color:  #e6e2ef;\n",
       "            color:  #000000;\n",
       "        }    #T_9e58dd2c_e61e_11e9_900f_0242ac110002row6_col1 {\n",
       "            background-color:  #80aed2;\n",
       "            color:  #000000;\n",
       "        }    #T_9e58dd2c_e61e_11e9_900f_0242ac110002row6_col2 {\n",
       "            background-color:  #d0d1e6;\n",
       "            color:  #000000;\n",
       "        }    #T_9e58dd2c_e61e_11e9_900f_0242ac110002row6_col3 {\n",
       "            background-color:  #ece7f2;\n",
       "            color:  #000000;\n",
       "        }    #T_9e58dd2c_e61e_11e9_900f_0242ac110002row6_col4 {\n",
       "            background-color:  #67a4cc;\n",
       "            color:  #000000;\n",
       "        }    #T_9e58dd2c_e61e_11e9_900f_0242ac110002row6_col5 {\n",
       "            background-color:  #ced0e6;\n",
       "            color:  #000000;\n",
       "        }    #T_9e58dd2c_e61e_11e9_900f_0242ac110002row6_col6 {\n",
       "            background-color:  #023858;\n",
       "            color:  #f1f1f1;\n",
       "        }    #T_9e58dd2c_e61e_11e9_900f_0242ac110002row6_col7 {\n",
       "            background-color:  #8fb4d6;\n",
       "            color:  #000000;\n",
       "        }    #T_9e58dd2c_e61e_11e9_900f_0242ac110002row6_col8 {\n",
       "            background-color:  #4295c3;\n",
       "            color:  #000000;\n",
       "        }    #T_9e58dd2c_e61e_11e9_900f_0242ac110002row6_col9 {\n",
       "            background-color:  #e7e3f0;\n",
       "            color:  #000000;\n",
       "        }    #T_9e58dd2c_e61e_11e9_900f_0242ac110002row6_col10 {\n",
       "            background-color:  #cccfe5;\n",
       "            color:  #000000;\n",
       "        }    #T_9e58dd2c_e61e_11e9_900f_0242ac110002row7_col0 {\n",
       "            background-color:  #4897c4;\n",
       "            color:  #000000;\n",
       "        }    #T_9e58dd2c_e61e_11e9_900f_0242ac110002row7_col1 {\n",
       "            background-color:  #fdf5fa;\n",
       "            color:  #000000;\n",
       "        }    #T_9e58dd2c_e61e_11e9_900f_0242ac110002row7_col2 {\n",
       "            background-color:  #4094c3;\n",
       "            color:  #000000;\n",
       "        }    #T_9e58dd2c_e61e_11e9_900f_0242ac110002row7_col3 {\n",
       "            background-color:  #f6eff7;\n",
       "            color:  #000000;\n",
       "        }    #T_9e58dd2c_e61e_11e9_900f_0242ac110002row7_col4 {\n",
       "            background-color:  #045585;\n",
       "            color:  #f1f1f1;\n",
       "        }    #T_9e58dd2c_e61e_11e9_900f_0242ac110002row7_col5 {\n",
       "            background-color:  #fff7fb;\n",
       "            color:  #000000;\n",
       "        }    #T_9e58dd2c_e61e_11e9_900f_0242ac110002row7_col6 {\n",
       "            background-color:  #dcdaeb;\n",
       "            color:  #000000;\n",
       "        }    #T_9e58dd2c_e61e_11e9_900f_0242ac110002row7_col7 {\n",
       "            background-color:  #023858;\n",
       "            color:  #f1f1f1;\n",
       "        }    #T_9e58dd2c_e61e_11e9_900f_0242ac110002row7_col8 {\n",
       "            background-color:  #e6e2ef;\n",
       "            color:  #000000;\n",
       "        }    #T_9e58dd2c_e61e_11e9_900f_0242ac110002row7_col9 {\n",
       "            background-color:  #a4bcda;\n",
       "            color:  #000000;\n",
       "        }    #T_9e58dd2c_e61e_11e9_900f_0242ac110002row7_col10 {\n",
       "            background-color:  #589ec8;\n",
       "            color:  #000000;\n",
       "        }    #T_9e58dd2c_e61e_11e9_900f_0242ac110002row8_col0 {\n",
       "            background-color:  #e5e1ef;\n",
       "            color:  #000000;\n",
       "        }    #T_9e58dd2c_e61e_11e9_900f_0242ac110002row8_col1 {\n",
       "            background-color:  #6da6cd;\n",
       "            color:  #000000;\n",
       "        }    #T_9e58dd2c_e61e_11e9_900f_0242ac110002row8_col2 {\n",
       "            background-color:  #a7bddb;\n",
       "            color:  #000000;\n",
       "        }    #T_9e58dd2c_e61e_11e9_900f_0242ac110002row8_col3 {\n",
       "            background-color:  #f0eaf4;\n",
       "            color:  #000000;\n",
       "        }    #T_9e58dd2c_e61e_11e9_900f_0242ac110002row8_col4 {\n",
       "            background-color:  #73a9cf;\n",
       "            color:  #000000;\n",
       "        }    #T_9e58dd2c_e61e_11e9_900f_0242ac110002row8_col5 {\n",
       "            background-color:  #d6d6e9;\n",
       "            color:  #000000;\n",
       "        }    #T_9e58dd2c_e61e_11e9_900f_0242ac110002row8_col6 {\n",
       "            background-color:  #4295c3;\n",
       "            color:  #000000;\n",
       "        }    #T_9e58dd2c_e61e_11e9_900f_0242ac110002row8_col7 {\n",
       "            background-color:  #9ab8d8;\n",
       "            color:  #000000;\n",
       "        }    #T_9e58dd2c_e61e_11e9_900f_0242ac110002row8_col8 {\n",
       "            background-color:  #023858;\n",
       "            color:  #f1f1f1;\n",
       "        }    #T_9e58dd2c_e61e_11e9_900f_0242ac110002row8_col9 {\n",
       "            background-color:  #ece7f2;\n",
       "            color:  #000000;\n",
       "        }    #T_9e58dd2c_e61e_11e9_900f_0242ac110002row8_col10 {\n",
       "            background-color:  #c6cce3;\n",
       "            color:  #000000;\n",
       "        }    #T_9e58dd2c_e61e_11e9_900f_0242ac110002row9_col0 {\n",
       "            background-color:  #a5bddb;\n",
       "            color:  #000000;\n",
       "        }    #T_9e58dd2c_e61e_11e9_900f_0242ac110002row9_col1 {\n",
       "            background-color:  #c6cce3;\n",
       "            color:  #000000;\n",
       "        }    #T_9e58dd2c_e61e_11e9_900f_0242ac110002row9_col2 {\n",
       "            background-color:  #c4cbe3;\n",
       "            color:  #000000;\n",
       "        }    #T_9e58dd2c_e61e_11e9_900f_0242ac110002row9_col3 {\n",
       "            background-color:  #f1ebf4;\n",
       "            color:  #000000;\n",
       "        }    #T_9e58dd2c_e61e_11e9_900f_0242ac110002row9_col4 {\n",
       "            background-color:  #5a9ec9;\n",
       "            color:  #000000;\n",
       "        }    #T_9e58dd2c_e61e_11e9_900f_0242ac110002row9_col5 {\n",
       "            background-color:  #cacee5;\n",
       "            color:  #000000;\n",
       "        }    #T_9e58dd2c_e61e_11e9_900f_0242ac110002row9_col6 {\n",
       "            background-color:  #ede7f2;\n",
       "            color:  #000000;\n",
       "        }    #T_9e58dd2c_e61e_11e9_900f_0242ac110002row9_col7 {\n",
       "            background-color:  #5ea0ca;\n",
       "            color:  #000000;\n",
       "        }    #T_9e58dd2c_e61e_11e9_900f_0242ac110002row9_col8 {\n",
       "            background-color:  #f1ebf5;\n",
       "            color:  #000000;\n",
       "        }    #T_9e58dd2c_e61e_11e9_900f_0242ac110002row9_col9 {\n",
       "            background-color:  #023858;\n",
       "            color:  #f1f1f1;\n",
       "        }    #T_9e58dd2c_e61e_11e9_900f_0242ac110002row9_col10 {\n",
       "            background-color:  #b1c2de;\n",
       "            color:  #000000;\n",
       "        }    #T_9e58dd2c_e61e_11e9_900f_0242ac110002row10_col0 {\n",
       "            background-color:  #a4bcda;\n",
       "            color:  #000000;\n",
       "        }    #T_9e58dd2c_e61e_11e9_900f_0242ac110002row10_col1 {\n",
       "            background-color:  #d6d6e9;\n",
       "            color:  #000000;\n",
       "        }    #T_9e58dd2c_e61e_11e9_900f_0242ac110002row10_col2 {\n",
       "            background-color:  #2484ba;\n",
       "            color:  #000000;\n",
       "        }    #T_9e58dd2c_e61e_11e9_900f_0242ac110002row10_col3 {\n",
       "            background-color:  #fff7fb;\n",
       "            color:  #000000;\n",
       "        }    #T_9e58dd2c_e61e_11e9_900f_0242ac110002row10_col4 {\n",
       "            background-color:  #2081b9;\n",
       "            color:  #000000;\n",
       "        }    #T_9e58dd2c_e61e_11e9_900f_0242ac110002row10_col5 {\n",
       "            background-color:  #e8e4f0;\n",
       "            color:  #000000;\n",
       "        }    #T_9e58dd2c_e61e_11e9_900f_0242ac110002row10_col6 {\n",
       "            background-color:  #dfddec;\n",
       "            color:  #000000;\n",
       "        }    #T_9e58dd2c_e61e_11e9_900f_0242ac110002row10_col7 {\n",
       "            background-color:  #2c89bd;\n",
       "            color:  #000000;\n",
       "        }    #T_9e58dd2c_e61e_11e9_900f_0242ac110002row10_col8 {\n",
       "            background-color:  #dddbec;\n",
       "            color:  #000000;\n",
       "        }    #T_9e58dd2c_e61e_11e9_900f_0242ac110002row10_col9 {\n",
       "            background-color:  #c2cbe2;\n",
       "            color:  #000000;\n",
       "        }    #T_9e58dd2c_e61e_11e9_900f_0242ac110002row10_col10 {\n",
       "            background-color:  #023858;\n",
       "            color:  #f1f1f1;\n",
       "        }</style><table id=\"T_9e58dd2c_e61e_11e9_900f_0242ac110002\" ><thead>    <tr>        <th class=\"blank level0\" ></th>        <th class=\"col_heading level0 col0\" >popularity</th>        <th class=\"col_heading level0 col1\" >acousticness</th>        <th class=\"col_heading level0 col2\" >danceability</th>        <th class=\"col_heading level0 col3\" >duration_ms</th>        <th class=\"col_heading level0 col4\" >energy</th>        <th class=\"col_heading level0 col5\" >instrumentalness</th>        <th class=\"col_heading level0 col6\" >liveness</th>        <th class=\"col_heading level0 col7\" >loudness</th>        <th class=\"col_heading level0 col8\" >speechiness</th>        <th class=\"col_heading level0 col9\" >tempo</th>        <th class=\"col_heading level0 col10\" >valence</th>    </tr></thead><tbody>\n",
       "                <tr>\n",
       "                        <th id=\"T_9e58dd2c_e61e_11e9_900f_0242ac110002level0_row0\" class=\"row_heading level0 row0\" >popularity</th>\n",
       "                        <td id=\"T_9e58dd2c_e61e_11e9_900f_0242ac110002row0_col0\" class=\"data row0 col0\" >1</td>\n",
       "                        <td id=\"T_9e58dd2c_e61e_11e9_900f_0242ac110002row0_col1\" class=\"data row0 col1\" >-0.42</td>\n",
       "                        <td id=\"T_9e58dd2c_e61e_11e9_900f_0242ac110002row0_col2\" class=\"data row0 col2\" >0.29</td>\n",
       "                        <td id=\"T_9e58dd2c_e61e_11e9_900f_0242ac110002row0_col3\" class=\"data row0 col3\" >-0.041</td>\n",
       "                        <td id=\"T_9e58dd2c_e61e_11e9_900f_0242ac110002row0_col4\" class=\"data row0 col4\" >0.28</td>\n",
       "                        <td id=\"T_9e58dd2c_e61e_11e9_900f_0242ac110002row0_col5\" class=\"data row0 col5\" >-0.23</td>\n",
       "                        <td id=\"T_9e58dd2c_e61e_11e9_900f_0242ac110002row0_col6\" class=\"data row0 col6\" >-0.2</td>\n",
       "                        <td id=\"T_9e58dd2c_e61e_11e9_900f_0242ac110002row0_col7\" class=\"data row0 col7\" >0.41</td>\n",
       "                        <td id=\"T_9e58dd2c_e61e_11e9_900f_0242ac110002row0_col8\" class=\"data row0 col8\" >-0.19</td>\n",
       "                        <td id=\"T_9e58dd2c_e61e_11e9_900f_0242ac110002row0_col9\" class=\"data row0 col9\" >0.11</td>\n",
       "                        <td id=\"T_9e58dd2c_e61e_11e9_900f_0242ac110002row0_col10\" class=\"data row0 col10\" >0.12</td>\n",
       "            </tr>\n",
       "            <tr>\n",
       "                        <th id=\"T_9e58dd2c_e61e_11e9_900f_0242ac110002level0_row1\" class=\"row_heading level0 row1\" >acousticness</th>\n",
       "                        <td id=\"T_9e58dd2c_e61e_11e9_900f_0242ac110002row1_col0\" class=\"data row1 col0\" >-0.42</td>\n",
       "                        <td id=\"T_9e58dd2c_e61e_11e9_900f_0242ac110002row1_col1\" class=\"data row1 col1\" >1</td>\n",
       "                        <td id=\"T_9e58dd2c_e61e_11e9_900f_0242ac110002row1_col2\" class=\"data row1 col2\" >-0.38</td>\n",
       "                        <td id=\"T_9e58dd2c_e61e_11e9_900f_0242ac110002row1_col3\" class=\"data row1 col3\" >0.035</td>\n",
       "                        <td id=\"T_9e58dd2c_e61e_11e9_900f_0242ac110002row1_col4\" class=\"data row1 col4\" >-0.72</td>\n",
       "                        <td id=\"T_9e58dd2c_e61e_11e9_900f_0242ac110002row1_col5\" class=\"data row1 col5\" >0.32</td>\n",
       "                        <td id=\"T_9e58dd2c_e61e_11e9_900f_0242ac110002row1_col6\" class=\"data row1 col6\" >0.086</td>\n",
       "                        <td id=\"T_9e58dd2c_e61e_11e9_900f_0242ac110002row1_col7\" class=\"data row1 col7\" >-0.7</td>\n",
       "                        <td id=\"T_9e58dd2c_e61e_11e9_900f_0242ac110002row1_col8\" class=\"data row1 col8\" >0.17</td>\n",
       "                        <td id=\"T_9e58dd2c_e61e_11e9_900f_0242ac110002row1_col9\" class=\"data row1 col9\" >-0.24</td>\n",
       "                        <td id=\"T_9e58dd2c_e61e_11e9_900f_0242ac110002row1_col10\" class=\"data row1 col10\" >-0.34</td>\n",
       "            </tr>\n",
       "            <tr>\n",
       "                        <th id=\"T_9e58dd2c_e61e_11e9_900f_0242ac110002level0_row2\" class=\"row_heading level0 row2\" >danceability</th>\n",
       "                        <td id=\"T_9e58dd2c_e61e_11e9_900f_0242ac110002row2_col0\" class=\"data row2 col0\" >0.29</td>\n",
       "                        <td id=\"T_9e58dd2c_e61e_11e9_900f_0242ac110002row2_col1\" class=\"data row2 col1\" >-0.38</td>\n",
       "                        <td id=\"T_9e58dd2c_e61e_11e9_900f_0242ac110002row2_col2\" class=\"data row2 col2\" >1</td>\n",
       "                        <td id=\"T_9e58dd2c_e61e_11e9_900f_0242ac110002row2_col3\" class=\"data row2 col3\" >-0.12</td>\n",
       "                        <td id=\"T_9e58dd2c_e61e_11e9_900f_0242ac110002row2_col4\" class=\"data row2 col4\" >0.34</td>\n",
       "                        <td id=\"T_9e58dd2c_e61e_11e9_900f_0242ac110002row2_col5\" class=\"data row2 col5\" >-0.36</td>\n",
       "                        <td id=\"T_9e58dd2c_e61e_11e9_900f_0242ac110002row2_col6\" class=\"data row2 col6\" >-0.034</td>\n",
       "                        <td id=\"T_9e58dd2c_e61e_11e9_900f_0242ac110002row2_col7\" class=\"data row2 col7\" >0.45</td>\n",
       "                        <td id=\"T_9e58dd2c_e61e_11e9_900f_0242ac110002row2_col8\" class=\"data row2 col8\" >0.14</td>\n",
       "                        <td id=\"T_9e58dd2c_e61e_11e9_900f_0242ac110002row2_col9\" class=\"data row2 col9\" >0.019</td>\n",
       "                        <td id=\"T_9e58dd2c_e61e_11e9_900f_0242ac110002row2_col10\" class=\"data row2 col10\" >0.54</td>\n",
       "            </tr>\n",
       "            <tr>\n",
       "                        <th id=\"T_9e58dd2c_e61e_11e9_900f_0242ac110002level0_row3\" class=\"row_heading level0 row3\" >duration_ms</th>\n",
       "                        <td id=\"T_9e58dd2c_e61e_11e9_900f_0242ac110002row3_col0\" class=\"data row3 col0\" >-0.041</td>\n",
       "                        <td id=\"T_9e58dd2c_e61e_11e9_900f_0242ac110002row3_col1\" class=\"data row3 col1\" >0.035</td>\n",
       "                        <td id=\"T_9e58dd2c_e61e_11e9_900f_0242ac110002row3_col2\" class=\"data row3 col2\" >-0.12</td>\n",
       "                        <td id=\"T_9e58dd2c_e61e_11e9_900f_0242ac110002row3_col3\" class=\"data row3 col3\" >1</td>\n",
       "                        <td id=\"T_9e58dd2c_e61e_11e9_900f_0242ac110002row3_col4\" class=\"data row3 col4\" >-0.058</td>\n",
       "                        <td id=\"T_9e58dd2c_e61e_11e9_900f_0242ac110002row3_col5\" class=\"data row3 col5\" >0.095</td>\n",
       "                        <td id=\"T_9e58dd2c_e61e_11e9_900f_0242ac110002row3_col6\" class=\"data row3 col6\" >0.0068</td>\n",
       "                        <td id=\"T_9e58dd2c_e61e_11e9_900f_0242ac110002row3_col7\" class=\"data row3 col7\" >-0.069</td>\n",
       "                        <td id=\"T_9e58dd2c_e61e_11e9_900f_0242ac110002row3_col8\" class=\"data row3 col8\" >-0.018</td>\n",
       "                        <td id=\"T_9e58dd2c_e61e_11e9_900f_0242ac110002row3_col9\" class=\"data row3 col9\" >-0.028</td>\n",
       "                        <td id=\"T_9e58dd2c_e61e_11e9_900f_0242ac110002row3_col10\" class=\"data row3 col10\" >-0.14</td>\n",
       "            </tr>\n",
       "            <tr>\n",
       "                        <th id=\"T_9e58dd2c_e61e_11e9_900f_0242ac110002level0_row4\" class=\"row_heading level0 row4\" >energy</th>\n",
       "                        <td id=\"T_9e58dd2c_e61e_11e9_900f_0242ac110002row4_col0\" class=\"data row4 col0\" >0.28</td>\n",
       "                        <td id=\"T_9e58dd2c_e61e_11e9_900f_0242ac110002row4_col1\" class=\"data row4 col1\" >-0.72</td>\n",
       "                        <td id=\"T_9e58dd2c_e61e_11e9_900f_0242ac110002row4_col2\" class=\"data row4 col2\" >0.34</td>\n",
       "                        <td id=\"T_9e58dd2c_e61e_11e9_900f_0242ac110002row4_col3\" class=\"data row4 col3\" >-0.058</td>\n",
       "                        <td id=\"T_9e58dd2c_e61e_11e9_900f_0242ac110002row4_col4\" class=\"data row4 col4\" >1</td>\n",
       "                        <td id=\"T_9e58dd2c_e61e_11e9_900f_0242ac110002row4_col5\" class=\"data row4 col5\" >-0.39</td>\n",
       "                        <td id=\"T_9e58dd2c_e61e_11e9_900f_0242ac110002row4_col6\" class=\"data row4 col6\" >0.18</td>\n",
       "                        <td id=\"T_9e58dd2c_e61e_11e9_900f_0242ac110002row4_col7\" class=\"data row4 col7\" >0.82</td>\n",
       "                        <td id=\"T_9e58dd2c_e61e_11e9_900f_0242ac110002row4_col8\" class=\"data row4 col8\" >0.14</td>\n",
       "                        <td id=\"T_9e58dd2c_e61e_11e9_900f_0242ac110002row4_col9\" class=\"data row4 col9\" >0.23</td>\n",
       "                        <td id=\"T_9e58dd2c_e61e_11e9_900f_0242ac110002row4_col10\" class=\"data row4 col10\" >0.45</td>\n",
       "            </tr>\n",
       "            <tr>\n",
       "                        <th id=\"T_9e58dd2c_e61e_11e9_900f_0242ac110002level0_row5\" class=\"row_heading level0 row5\" >instrumentalness</th>\n",
       "                        <td id=\"T_9e58dd2c_e61e_11e9_900f_0242ac110002row5_col0\" class=\"data row5 col0\" >-0.23</td>\n",
       "                        <td id=\"T_9e58dd2c_e61e_11e9_900f_0242ac110002row5_col1\" class=\"data row5 col1\" >0.32</td>\n",
       "                        <td id=\"T_9e58dd2c_e61e_11e9_900f_0242ac110002row5_col2\" class=\"data row5 col2\" >-0.36</td>\n",
       "                        <td id=\"T_9e58dd2c_e61e_11e9_900f_0242ac110002row5_col3\" class=\"data row5 col3\" >0.095</td>\n",
       "                        <td id=\"T_9e58dd2c_e61e_11e9_900f_0242ac110002row5_col4\" class=\"data row5 col4\" >-0.39</td>\n",
       "                        <td id=\"T_9e58dd2c_e61e_11e9_900f_0242ac110002row5_col5\" class=\"data row5 col5\" >1</td>\n",
       "                        <td id=\"T_9e58dd2c_e61e_11e9_900f_0242ac110002row5_col6\" class=\"data row5 col6\" >-0.13</td>\n",
       "                        <td id=\"T_9e58dd2c_e61e_11e9_900f_0242ac110002row5_col7\" class=\"data row5 col7\" >-0.52</td>\n",
       "                        <td id=\"T_9e58dd2c_e61e_11e9_900f_0242ac110002row5_col8\" class=\"data row5 col8\" >-0.17</td>\n",
       "                        <td id=\"T_9e58dd2c_e61e_11e9_900f_0242ac110002row5_col9\" class=\"data row5 col9\" >-0.11</td>\n",
       "                        <td id=\"T_9e58dd2c_e61e_11e9_900f_0242ac110002row5_col10\" class=\"data row5 col10\" >-0.3</td>\n",
       "            </tr>\n",
       "            <tr>\n",
       "                        <th id=\"T_9e58dd2c_e61e_11e9_900f_0242ac110002level0_row6\" class=\"row_heading level0 row6\" >liveness</th>\n",
       "                        <td id=\"T_9e58dd2c_e61e_11e9_900f_0242ac110002row6_col0\" class=\"data row6 col0\" >-0.2</td>\n",
       "                        <td id=\"T_9e58dd2c_e61e_11e9_900f_0242ac110002row6_col1\" class=\"data row6 col1\" >0.086</td>\n",
       "                        <td id=\"T_9e58dd2c_e61e_11e9_900f_0242ac110002row6_col2\" class=\"data row6 col2\" >-0.034</td>\n",
       "                        <td id=\"T_9e58dd2c_e61e_11e9_900f_0242ac110002row6_col3\" class=\"data row6 col3\" >0.0068</td>\n",
       "                        <td id=\"T_9e58dd2c_e61e_11e9_900f_0242ac110002row6_col4\" class=\"data row6 col4\" >0.18</td>\n",
       "                        <td id=\"T_9e58dd2c_e61e_11e9_900f_0242ac110002row6_col5\" class=\"data row6 col5\" >-0.13</td>\n",
       "                        <td id=\"T_9e58dd2c_e61e_11e9_900f_0242ac110002row6_col6\" class=\"data row6 col6\" >1</td>\n",
       "                        <td id=\"T_9e58dd2c_e61e_11e9_900f_0242ac110002row6_col7\" class=\"data row6 col7\" >0.036</td>\n",
       "                        <td id=\"T_9e58dd2c_e61e_11e9_900f_0242ac110002row6_col8\" class=\"data row6 col8\" >0.52</td>\n",
       "                        <td id=\"T_9e58dd2c_e61e_11e9_900f_0242ac110002row6_col9\" class=\"data row6 col9\" >-0.056</td>\n",
       "                        <td id=\"T_9e58dd2c_e61e_11e9_900f_0242ac110002row6_col10\" class=\"data row6 col10\" >0.018</td>\n",
       "            </tr>\n",
       "            <tr>\n",
       "                        <th id=\"T_9e58dd2c_e61e_11e9_900f_0242ac110002level0_row7\" class=\"row_heading level0 row7\" >loudness</th>\n",
       "                        <td id=\"T_9e58dd2c_e61e_11e9_900f_0242ac110002row7_col0\" class=\"data row7 col0\" >0.41</td>\n",
       "                        <td id=\"T_9e58dd2c_e61e_11e9_900f_0242ac110002row7_col1\" class=\"data row7 col1\" >-0.7</td>\n",
       "                        <td id=\"T_9e58dd2c_e61e_11e9_900f_0242ac110002row7_col2\" class=\"data row7 col2\" >0.45</td>\n",
       "                        <td id=\"T_9e58dd2c_e61e_11e9_900f_0242ac110002row7_col3\" class=\"data row7 col3\" >-0.069</td>\n",
       "                        <td id=\"T_9e58dd2c_e61e_11e9_900f_0242ac110002row7_col4\" class=\"data row7 col4\" >0.82</td>\n",
       "                        <td id=\"T_9e58dd2c_e61e_11e9_900f_0242ac110002row7_col5\" class=\"data row7 col5\" >-0.52</td>\n",
       "                        <td id=\"T_9e58dd2c_e61e_11e9_900f_0242ac110002row7_col6\" class=\"data row7 col6\" >0.036</td>\n",
       "                        <td id=\"T_9e58dd2c_e61e_11e9_900f_0242ac110002row7_col7\" class=\"data row7 col7\" >1</td>\n",
       "                        <td id=\"T_9e58dd2c_e61e_11e9_900f_0242ac110002row7_col8\" class=\"data row7 col8\" >-0.0089</td>\n",
       "                        <td id=\"T_9e58dd2c_e61e_11e9_900f_0242ac110002row7_col9\" class=\"data row7 col9\" >0.23</td>\n",
       "                        <td id=\"T_9e58dd2c_e61e_11e9_900f_0242ac110002row7_col10\" class=\"data row7 col10\" >0.41</td>\n",
       "            </tr>\n",
       "            <tr>\n",
       "                        <th id=\"T_9e58dd2c_e61e_11e9_900f_0242ac110002level0_row8\" class=\"row_heading level0 row8\" >speechiness</th>\n",
       "                        <td id=\"T_9e58dd2c_e61e_11e9_900f_0242ac110002row8_col0\" class=\"data row8 col0\" >-0.19</td>\n",
       "                        <td id=\"T_9e58dd2c_e61e_11e9_900f_0242ac110002row8_col1\" class=\"data row8 col1\" >0.17</td>\n",
       "                        <td id=\"T_9e58dd2c_e61e_11e9_900f_0242ac110002row8_col2\" class=\"data row8 col2\" >0.14</td>\n",
       "                        <td id=\"T_9e58dd2c_e61e_11e9_900f_0242ac110002row8_col3\" class=\"data row8 col3\" >-0.018</td>\n",
       "                        <td id=\"T_9e58dd2c_e61e_11e9_900f_0242ac110002row8_col4\" class=\"data row8 col4\" >0.14</td>\n",
       "                        <td id=\"T_9e58dd2c_e61e_11e9_900f_0242ac110002row8_col5\" class=\"data row8 col5\" >-0.17</td>\n",
       "                        <td id=\"T_9e58dd2c_e61e_11e9_900f_0242ac110002row8_col6\" class=\"data row8 col6\" >0.52</td>\n",
       "                        <td id=\"T_9e58dd2c_e61e_11e9_900f_0242ac110002row8_col7\" class=\"data row8 col7\" >-0.0089</td>\n",
       "                        <td id=\"T_9e58dd2c_e61e_11e9_900f_0242ac110002row8_col8\" class=\"data row8 col8\" >1</td>\n",
       "                        <td id=\"T_9e58dd2c_e61e_11e9_900f_0242ac110002row8_col9\" class=\"data row8 col9\" >-0.086</td>\n",
       "                        <td id=\"T_9e58dd2c_e61e_11e9_900f_0242ac110002row8_col10\" class=\"data row8 col10\" >0.035</td>\n",
       "            </tr>\n",
       "            <tr>\n",
       "                        <th id=\"T_9e58dd2c_e61e_11e9_900f_0242ac110002level0_row9\" class=\"row_heading level0 row9\" >tempo</th>\n",
       "                        <td id=\"T_9e58dd2c_e61e_11e9_900f_0242ac110002row9_col0\" class=\"data row9 col0\" >0.11</td>\n",
       "                        <td id=\"T_9e58dd2c_e61e_11e9_900f_0242ac110002row9_col1\" class=\"data row9 col1\" >-0.24</td>\n",
       "                        <td id=\"T_9e58dd2c_e61e_11e9_900f_0242ac110002row9_col2\" class=\"data row9 col2\" >0.019</td>\n",
       "                        <td id=\"T_9e58dd2c_e61e_11e9_900f_0242ac110002row9_col3\" class=\"data row9 col3\" >-0.028</td>\n",
       "                        <td id=\"T_9e58dd2c_e61e_11e9_900f_0242ac110002row9_col4\" class=\"data row9 col4\" >0.23</td>\n",
       "                        <td id=\"T_9e58dd2c_e61e_11e9_900f_0242ac110002row9_col5\" class=\"data row9 col5\" >-0.11</td>\n",
       "                        <td id=\"T_9e58dd2c_e61e_11e9_900f_0242ac110002row9_col6\" class=\"data row9 col6\" >-0.056</td>\n",
       "                        <td id=\"T_9e58dd2c_e61e_11e9_900f_0242ac110002row9_col7\" class=\"data row9 col7\" >0.23</td>\n",
       "                        <td id=\"T_9e58dd2c_e61e_11e9_900f_0242ac110002row9_col8\" class=\"data row9 col8\" >-0.086</td>\n",
       "                        <td id=\"T_9e58dd2c_e61e_11e9_900f_0242ac110002row9_col9\" class=\"data row9 col9\" >1</td>\n",
       "                        <td id=\"T_9e58dd2c_e61e_11e9_900f_0242ac110002row9_col10\" class=\"data row9 col10\" >0.12</td>\n",
       "            </tr>\n",
       "            <tr>\n",
       "                        <th id=\"T_9e58dd2c_e61e_11e9_900f_0242ac110002level0_row10\" class=\"row_heading level0 row10\" >valence</th>\n",
       "                        <td id=\"T_9e58dd2c_e61e_11e9_900f_0242ac110002row10_col0\" class=\"data row10 col0\" >0.12</td>\n",
       "                        <td id=\"T_9e58dd2c_e61e_11e9_900f_0242ac110002row10_col1\" class=\"data row10 col1\" >-0.34</td>\n",
       "                        <td id=\"T_9e58dd2c_e61e_11e9_900f_0242ac110002row10_col2\" class=\"data row10 col2\" >0.54</td>\n",
       "                        <td id=\"T_9e58dd2c_e61e_11e9_900f_0242ac110002row10_col3\" class=\"data row10 col3\" >-0.14</td>\n",
       "                        <td id=\"T_9e58dd2c_e61e_11e9_900f_0242ac110002row10_col4\" class=\"data row10 col4\" >0.45</td>\n",
       "                        <td id=\"T_9e58dd2c_e61e_11e9_900f_0242ac110002row10_col5\" class=\"data row10 col5\" >-0.3</td>\n",
       "                        <td id=\"T_9e58dd2c_e61e_11e9_900f_0242ac110002row10_col6\" class=\"data row10 col6\" >0.018</td>\n",
       "                        <td id=\"T_9e58dd2c_e61e_11e9_900f_0242ac110002row10_col7\" class=\"data row10 col7\" >0.41</td>\n",
       "                        <td id=\"T_9e58dd2c_e61e_11e9_900f_0242ac110002row10_col8\" class=\"data row10 col8\" >0.035</td>\n",
       "                        <td id=\"T_9e58dd2c_e61e_11e9_900f_0242ac110002row10_col9\" class=\"data row10 col9\" >0.12</td>\n",
       "                        <td id=\"T_9e58dd2c_e61e_11e9_900f_0242ac110002row10_col10\" class=\"data row10 col10\" >1</td>\n",
       "            </tr>\n",
       "    </tbody></table>"
      ],
      "text/plain": [
       "<pandas.io.formats.style.Styler at 0x7f8b40ef8860>"
      ]
     },
     "execution_count": 8,
     "metadata": {},
     "output_type": "execute_result"
    }
   ],
   "source": [
    "corr = df.corr()\n",
    "corr.style.background_gradient().set_precision(2)"
   ]
  },
  {
   "cell_type": "markdown",
   "metadata": {},
   "source": [
    "It seems that `energy` and `loudness` is the pair of features with the strongest positive correlation, followed by `valence` and `danceability`. We also see strong negative correlation between `acousticness` and a few other features. Finally, some of these have a medium to strong correlation with popularity.\n",
    "\n",
    "**Q4: Why don't we see `genre`, `key`, and `time signature` on the correlation matrix? What could we do to address this?**\n",
    "\n",
    "**A:** This is because they're categorical features, and the correlation matrix can only correlate values for numerical (discrete or continuous) features. One way to include the categorical features in a correlation matrix is to map each unique string to an integer value. This preprocessing step is also known as [\"one-hot encoding\"](https://www.kaggle.com/dansbecker/using-categorical-data-with-one-hot-encoding). You can do this manually, as we do later in Part 3 of this notebook, or you can use `sklearn`'s [`OneHotEncoder`](https://scikit-learn.org/stable/modules/generated/sklearn.preprocessing.OneHotEncoder.html#targetText=sklearn.preprocessing%20.OneHotEncoder)."
   ]
  },
  {
   "cell_type": "markdown",
   "metadata": {},
   "source": [
    "If we look at the [documentation for these features](https://developer.spotify.com/documentation/web-api/reference/tracks/get-audio-features/), we see that `energy` is defined as a \"perceptual measure of intensity and activity\".  The example they give for this is death metal (high energy) vs a Bach prelude (low energy). Similarly, `valence` is a score between `0.0` and `1.0` indicating how positive the song is. So it makes sense that the `energy` would be correlated with `loudness`, and `valence` with `danceability`.\n",
    "\n",
    "Now let's examine the distribution values for some of the features we mention above. In particular, let's look at the `top1k` subset, as we may have a better intuition for popular songs. For example, are the `top1k` songs more biased towards high `danceability`?\n",
    "\n",
    "We can use [`seaborn's distplot()`](http://seaborn.pydata.org/generated/seaborn.distplot.html) to plot a histogram for the `danceability` column:"
   ]
  },
  {
   "cell_type": "code",
   "execution_count": 9,
   "metadata": {},
   "outputs": [
    {
     "data": {
      "text/plain": [
       "Text(0.5, 1.0, 'Danceability distribution for top 1k songs')"
      ]
     },
     "execution_count": 9,
     "metadata": {},
     "output_type": "execute_result"
    },
    {
     "data": {
      "image/png": "[encoded data removed]",
      "text/plain": [
       "<Figure size 432x288 with 1 Axes>"
      ]
     },
     "metadata": {
      "needs_background": "light"
     },
     "output_type": "display_data"
    }
   ],
   "source": [
    "sns.distplot(top1k['danceability']).set_title('Danceability distribution for top 1k songs')"
   ]
  },
  {
   "cell_type": "markdown",
   "metadata": {},
   "source": [
    "How about `energy` and `acousticness`? From the API docs: acousticness is a score between 0.0 and 1.0 that indicates Spotify's confidence that the song is \"acoustic\", e.g., live performances would have a score close to or equal to 1.0. \n",
    "\n",
    "**Q5: Plot the distribution for energy and acousticness below.  What is the mean for each?**"
   ]
  },
  {
   "cell_type": "code",
   "execution_count": 10,
   "metadata": {},
   "outputs": [
    {
     "name": "stdout",
     "output_type": "stream",
     "text": [
      "Mean energy:  0.6502619999999999\n",
      "Mean acousticness:  0.197825639\n"
     ]
    },
    {
     "data": {
      "text/plain": [
       "<matplotlib.legend.Legend at 0x7f8b3fed6c18>"
      ]
     },
     "execution_count": 10,
     "metadata": {},
     "output_type": "execute_result"
    },
    {
     "data": {
      "image/png": "[encoded data removed]",
      "text/plain": [
       "<Figure size 432x288 with 1 Axes>"
      ]
     },
     "metadata": {
      "needs_background": "light"
     },
     "output_type": "display_data"
    }
   ],
   "source": [
    "# Q5: YOUR CODE GOES HERE\n",
    "# (...)\n",
    "\n",
    "# Q5: Sample answer.\n",
    "print('Mean energy: ', top1k['energy'].mean())\n",
    "print('Mean acousticness: ', top1k['acousticness'].mean())\n",
    "\n",
    "# All 3 series in one plot, for easier comparison.\n",
    "p = sns.distplot(top1k['danceability'], label='danceability')\n",
    "sns.distplot(top1k['energy'], label='energy')\n",
    "sns.distplot(top1k['acousticness'], label='acousticness')\n",
    "p.set_title('Energy and Acousticness distribution for top 1k songs')\n",
    "p.set_xlabel('')  # remove x-axis label, o/w it uses the name from the last series that was added\n",
    "p.legend()"
   ]
  },
  {
   "cell_type": "markdown",
   "metadata": {},
   "source": [
    "**Q6: Discuss with the person next to you: what have we learned so far on the relationship between top1k songs and these 3 features above? How do you think this may affect our `popularity` prediction task?**\n",
    "\n",
    "**In other words, what kind of song would you write if you were trying to make it to the top as a musician, just based on these 3 features alone?**\n",
    "\n",
    "**A:** Low on acousticness, and high on both energy and danceability, i.e., make sure you write songs that are recorded in a studio, and that are both danceable and suitable for a gym workout ;)"
   ]
  },
  {
   "cell_type": "markdown",
   "metadata": {},
   "source": [
    "## Part 2: unsupervised ML with k-means clustering\n",
    "\n",
    "What if instead examining feature by feature we were to try and group songs by how similar they are in terms of these features?\n",
    "\n",
    "If you think of each song as a vector in a multidimensional space, where each dimension is a feature in the dataset, we can use co-sine similarity as a \"similarity\" metric to group together (or \"cluster\") songs that are similar.  And using the same idea, we can also \"profile\" each group, or \"cluster\".\n",
    "\n",
    "An unsupervised ML algorithm that can help us here is [K-means clustering](https://en.wikipedia.org/wiki/K-means_clustering). `K` stands for the number of clusters (or groups) you want to have. The term `mean` refers to the method you use to assign each element in the dataset to a target cluster: by choosing the nearest mean (also known as the \"centroid\" element, representing the cluster) to that element.\n",
    "\n",
    "Specifically, for our case, given a set of songs where each song is a `d-`dimensional real vector, `k-`means clustering aims to partition the set of songs into `k` clusters so as to minimize the within-cluster sum of squares (aka intra-cluster variance).\n",
    "\n",
    "At this point we don't know yet how many clusters we'll need, but let's give it a try using some of the features we've seen so far, plus other characteristics such as `speechiness` (i.e., amount of vocals in the song), and `instrumentalness`."
   ]
  },
  {
   "cell_type": "code",
   "execution_count": 11,
   "metadata": {},
   "outputs": [],
   "source": [
    "# We exclude non-numerical features, and those that are too fine-grained, such as \"key\", or too coarse-grained,\n",
    "# such as \"mode\".\n",
    "df_numerical = top1k.select_dtypes(exclude=[np.object])\n",
    "cluster_features = ['acousticness', 'danceability', 'energy', 'speechiness', 'instrumentalness']\n",
    "df_clusters = df_numerical[cluster_features]\n",
    "\n",
    "# numpy array with features\n",
    "X = np.array(df_clusters)\n",
    "\n",
    "# Q7: Do we need this scaling code?\n",
    "scaler = StandardScaler()\n",
    "scaler.fit(X)\n",
    "X = scaler.transform(X)\n",
    "\n",
    "# Hint: does this help you decide?\n",
    "#top1k[cluster_features].describe()"
   ]
  },
  {
   "cell_type": "markdown",
   "metadata": {},
   "source": [
    "How many clusters should we use? If we pick too few, we get too many songs that don't quite \"fit in\" with that cluster (i.e., intra-cluster variance, or error, is too large). If we pick too many, error is minimized, but our clusters are too small.\n",
    "\n",
    "To figure out the \"sweet spot\", we can plot how the error decays as a function of the number of clusters we use.  This will give us a \"elbow\" shaped curve, and we can use the point at which the curve turns \"smooth\" as our number of clusters:"
   ]
  },
  {
   "cell_type": "code",
   "execution_count": 12,
   "metadata": {},
   "outputs": [
    {
     "data": {
      "image/png": "[encoded data removed]",
      "text/plain": [
       "<Figure size 432x288 with 1 Axes>"
      ]
     },
     "metadata": {
      "needs_background": "light"
     },
     "output_type": "display_data"
    }
   ],
   "source": [
    "dist = []\n",
    "for k in range(1, 10):\n",
    "    km = KMeans(n_clusters=k, init='k-means++', random_state=1337)\n",
    "    km = km.fit(X)\n",
    "    dist.append(km.inertia_)\n",
    "    \n",
    "plt.plot(range(1, 10), dist, 'bx-')\n",
    "plt.xlabel('k')\n",
    "plt.ylabel('Variance')\n",
    "plt.title('Elbow Method for choosing k')\n",
    "plt.show()"
   ]
  },
  {
   "cell_type": "markdown",
   "metadata": {},
   "source": [
    "**Q7: We used co-sine distance between songs (represented as n-dimensional vectors) to cluster them a 5-D space (n=5 features).  A [`StandardScaler`](https://scikit-learn.org/stable/modules/generated/sklearn.preprocessing.StandardScaler.html) standardizes features by removing the mean and scaling to unit variance.  Do we need to use that scaler in our features (see code 2 cells above)? Plot the elbow method above both with and without scaler to see the difference.**\n",
    "\n",
    "**A:** In general, it depends. When you have features with large values, and you don't want those to have larger weight on the distance calculation, then you want to scale. In our case, all 5 features have values ranging from 0.0 to 1.0. They're not scaled yet, however, as you can see from the output of `top1k[cluster_features].describe()`. You can also confirm that scaling is needed by looking at the elbow curve results: the breakpoint ends up being much earlier (at `k=2`) without scaling."
   ]
  },
  {
   "cell_type": "markdown",
   "metadata": {},
   "source": [
    "We can see from the \"Elbow Method\" curve above that at `k=4` our curve starts turning smooth. We can use either `k=4` or `k=5` as our number of clusters for k-means below. We'll go with `k=5`:"
   ]
  },
  {
   "cell_type": "code",
   "execution_count": 13,
   "metadata": {},
   "outputs": [],
   "source": [
    "# k-means clustering\n",
    "kmeans = KMeans(n_clusters=5, random_state=1337)\n",
    "kmeans.fit(X)\n",
    "y = kmeans.predict(X)"
   ]
  },
  {
   "cell_type": "markdown",
   "metadata": {},
   "source": [
    "We can now try and visualize the clusters in a 2-D space:"
   ]
  },
  {
   "cell_type": "code",
   "execution_count": 14,
   "metadata": {},
   "outputs": [
    {
     "name": "stdout",
     "output_type": "stream",
     "text": [
      "Features:\n",
      " ['acousticness', 'danceability', 'energy', 'speechiness', 'instrumentalness']\n",
      "Centroids:\n",
      " [[ 0.26738476  0.11318532 -0.18755981 -0.47252187  5.58850807]\n",
      " [-0.14284159  0.62984688  0.1625441  -0.31638741 -0.11293294]\n",
      " [-0.5010746  -0.79433895  0.56679914 -0.42829863 -0.13576529]\n",
      " [-0.40045451  0.66232282 -0.32472655  1.73669593 -0.15165669]\n",
      " [ 1.84854124 -0.64607645 -1.22526308 -0.19348971 -0.10663343]]\n"
     ]
    },
    {
     "data": {
      "image/png": "[encoded data removed]",
      "text/plain": [
       "<Figure size 432x288 with 1 Axes>"
      ]
     },
     "metadata": {
      "needs_background": "light"
     },
     "output_type": "display_data"
    }
   ],
   "source": [
    "# visualize the clusters\n",
    "centers = kmeans.cluster_centers_\n",
    "print('Features:\\n', cluster_features)\n",
    "print('Centroids:\\n', centers)\n",
    "\n",
    "plt.scatter(X[:, 0], X[:, 1], c=y, s=50, cmap='viridis')\n",
    "plt.scatter(centers[:, 0], centers[:, 1], c='red', s=200, alpha=0.5);"
   ]
  },
  {
   "cell_type": "markdown",
   "metadata": {},
   "source": [
    "The centroid values for each dimension tells us some information on what the cluster profiles are, e.g., the last cluster is high on acousticness and low on both danceability and energy, so it's likely capturing live performances.\n",
    "\n",
    "But otherwise, as it turns out, directly visualizing the clusters in a 2-D space isn't so helpful for us at this point.\n",
    "\n",
    "First, we're using a 5-D dimensional space for clustering, so without doing something smart about how we reduce the number of dimensions when polotting, we're losing a lot of information on the visualization above.  Second, most songs in this dataset are highly biased towards one end of each of some features (e.g., we have a lot more danceable songs than we have non-danceable ones), so we'll have a lot of clusters fairly close to each other.\n",
    "\n",
    "We have a few options for dimensionality reduction that can help us here. The first one is Principal Component Analysis ([PCA](https://en.wikipedia.org/wiki/Principal_component_analysis)). Using PCA, we can tell what is the smallest set of features that contain the most information about our dataset:"
   ]
  },
  {
   "cell_type": "code",
   "execution_count": 15,
   "metadata": {},
   "outputs": [
    {
     "data": {
      "image/png": "[encoded data removed]",
      "text/plain": [
       "<Figure size 432x288 with 1 Axes>"
      ]
     },
     "metadata": {
      "needs_background": "light"
     },
     "output_type": "display_data"
    }
   ],
   "source": [
    "pca = PCA(n_components=len(cluster_features))\n",
    "pca_components = pca.fit_transform(X)\n",
    "\n",
    "# plot the PCA variances\n",
    "pca_features = range(pca.n_components_)\n",
    "plt.bar(pca_features, pca.explained_variance_ratio_)\n",
    "plt.xlabel('Principal components')\n",
    "plt.ylabel('Explained variance (%)')\n",
    "plt.xticks(pca_features)\n",
    "\n",
    "# save pca components in a df\n",
    "pca_components = pd.DataFrame(pca_components, columns = ['PC0', 'PC1', 'PC2', 'PC3', 'PC4'])"
   ]
  },
  {
   "cell_type": "markdown",
   "metadata": {},
   "source": [
    "We can see from the plot above that after the second PC, the gain in information is reduced. That is, the first component contributes almost 30% of the information, and the second one contributes over 25%. So if we use just the first 2 PCs, we already have close to 60% of the data being preserved. If we kept the first 3 PCs, we get closer to 80%.\n",
    "\n",
    "Let's try and plot the k-means clusters using PCA instead, and see if that makes it easier to visualize the clusters:"
   ]
  },
  {
   "cell_type": "code",
   "execution_count": 16,
   "metadata": {},
   "outputs": [
    {
     "data": {
      "text/plain": [
       "Text(0, 0.5, 'Principal Component 2')"
      ]
     },
     "execution_count": 16,
     "metadata": {},
     "output_type": "execute_result"
    },
    {
     "data": {
      "image/png": "[encoded data removed]",
      "text/plain": [
       "<Figure size 432x288 with 1 Axes>"
      ]
     },
     "metadata": {
      "needs_background": "light"
     },
     "output_type": "display_data"
    }
   ],
   "source": [
    "# k-means clustering on first 2 PCA components\n",
    "X_pca = pca_components\n",
    "kmeans_pca = KMeans(n_clusters=5, random_state=31337)\n",
    "kmeans_pca.fit(X_pca)\n",
    "y_pca = kmeans_pca.predict(X_pca)\n",
    "\n",
    "# visualize the clusters\n",
    "centers_pca = kmeans_pca.cluster_centers_\n",
    "plt.scatter(X_pca['PC0'], X_pca['PC1'], c=y_pca, s=50, cmap='viridis')\n",
    "plt.scatter(centers_pca[:, 0], centers_pca[:, 1], c='red', s=200, alpha=0.5);\n",
    "plt.xlabel('Principal Component 1')\n",
    "plt.ylabel('Principal Component 2')\n",
    "\n",
    "# if you're curious, inspect the min and max values for the PC dimensions\n",
    "# X_pca[['PC0', 'PC1']].describe()"
   ]
  },
  {
   "cell_type": "markdown",
   "metadata": {},
   "source": [
    "As we can see above, using k-means clustering after PCA, and plotting our clusters with the first 2 PCs as dimensions, helps a bit. Specifically, intra-cluster variance is smaller, and we can see that the centroids are not that far apart from each other (likely indicating that songs in the top1k are not that different from each other). But we can still improve this visualization.\n",
    "\n",
    "A more powerful technique for dimensionality reduction is t-Distributed Stochastic Neighbor Embedding ([t-SNE](https://en.wikipedia.org/wiki/T-distributed_stochastic_neighbor_embedding)). We'll leave for you to **try on your own** by following this [t-SNE vs PCA tutorial](https://www.datacamp.com/community/tutorials/introduction-t-sne), which has several example comparisons between the results you get with PCA vs t-SNE for visualization."
   ]
  },
  {
   "cell_type": "markdown",
   "metadata": {},
   "source": [
    "## Part 3: supervised ML for prediction tasks"
   ]
  },
  {
   "cell_type": "markdown",
   "metadata": {},
   "source": [
    "For this last part, we'll focus on two prediction tasks.\n",
    "\n",
    "In the first task, we'll try and predict genre for each song. We'll first try and see if we can do that on the `top1k` songs, and then with the entire dataset.\n",
    "\n",
    "In the second task, we'll try to predict song popularity, but using a larger dataset with features similar to those of the dataset above."
   ]
  },
  {
   "cell_type": "markdown",
   "metadata": {},
   "source": [
    "### a) genre prediction\n",
    "\n",
    "As mentioned above, the dataset we've been using so far has been augmented with genre information (stored in the `genre` column). We'll use values in that column as labels for training a supervised ML algorithm to predict song genre.\n",
    "\n",
    "And unlike in k-means clustering, here we'll use all features as input. We start by scaling our dataset again, follow that by splitting into our data into training and test datasets:"
   ]
  },
  {
   "cell_type": "code",
   "execution_count": 17,
   "metadata": {},
   "outputs": [],
   "source": [
    "# use our entire set of numerical features, instead of just the 5 we used for k-means clustering:\n",
    "df_numerical = top1k.select_dtypes(exclude=[np.object])\n",
    "X = np.array(df_numerical)\n",
    "\n",
    "# scaling won't make a difference for classifiers, but we leave it here in case you want to try other models\n",
    "scaler = StandardScaler()\n",
    "scaler.fit(X)\n",
    "X = scaler.transform(X)\n",
    "\n",
    "# the features and the label we'll use for training our supervised algo:\n",
    "features = X\n",
    "labels = top1k['genre']\n",
    "\n",
    "# split our data into training and test\n",
    "train_features, test_features, train_labels, test_labels = train_test_split(features, labels, random_state=31337)"
   ]
  },
  {
   "cell_type": "markdown",
   "metadata": {},
   "source": [
    "We then train our [decision tree classifier](https://scikit-learn.org/stable/modules/tree.html):"
   ]
  },
  {
   "cell_type": "code",
   "execution_count": 18,
   "metadata": {},
   "outputs": [],
   "source": [
    "# train a decision tree on it\n",
    "genre_tree = DecisionTreeClassifier(random_state=31337)\n",
    "genre_tree.fit(train_features, train_labels)\n",
    "\n",
    "# predict labels on test data\n",
    "pred_labels_tree = genre_tree.predict(test_features)"
   ]
  },
  {
   "cell_type": "markdown",
   "metadata": {},
   "source": [
    "Let's see how well the tree did on our genre prediction task:"
   ]
  },
  {
   "cell_type": "code",
   "execution_count": 19,
   "metadata": {},
   "outputs": [
    {
     "name": "stdout",
     "output_type": "stream",
     "text": [
      "Decision Tree Results:\n",
      "                   precision    recall  f1-score   support\n",
      "\n",
      "     Alternative       0.00      0.00      0.00         3\n",
      "           Anime       0.00      0.00      0.00         5\n",
      "           Blues       0.00      0.00      0.00         8\n",
      "Children’s Music       0.00      0.00      0.00         2\n",
      "         Country       0.00      0.00      0.00         2\n",
      "           Dance       0.05      0.09      0.07        33\n",
      "      Electronic       0.00      0.00      0.00         0\n",
      "            Folk       0.00      0.00      0.00         1\n",
      "         Hip-Hop       0.04      0.06      0.05        31\n",
      "           Indie       0.00      0.00      0.00         3\n",
      "             Pop       0.17      0.15      0.16        89\n",
      "             R&B       0.00      0.00      0.00         6\n",
      "             Rap       0.00      0.00      0.00        44\n",
      "       Reggaeton       0.33      0.15      0.21        13\n",
      "            Rock       0.00      0.00      0.00        10\n",
      "\n",
      "        accuracy                           0.08       250\n",
      "       macro avg       0.04      0.03      0.03       250\n",
      "    weighted avg       0.09      0.08      0.08       250\n",
      "\n"
     ]
    }
   ],
   "source": [
    "tree_results = classification_report(test_labels, pred_labels_tree)\n",
    "print('Decision Tree Results:\\n',  tree_results)"
   ]
  },
  {
   "cell_type": "markdown",
   "metadata": {},
   "source": [
    "That's pretty bad: our weighted average precision is as bad as random.  This is probably because this dataset doesn't have enough samples of each genre (there are only 1000 songs in total). As expected, we have a bias only towards genres in the top 1000.\n",
    "\n",
    "**Q8: Did we pick the wrong model? Try a [RandomForestClassifier](https://scikit-learn.org/stable/modules/generated/sklearn.ensemble.RandomForestClassifier.html) instead below, and see if we can get better results:**\n",
    "\n",
    "**A:** We didn't pick the wrong model. As you can see below, the RFC results are a little better, but not by much.  Another problem here is that not only do we have a small dataset, but we also have a large number of genres relative to the size of the dataset. So it's a multiclass prediction task, with several classes, and too little samples per class."
   ]
  },
  {
   "cell_type": "code",
   "execution_count": 20,
   "metadata": {},
   "outputs": [
    {
     "name": "stdout",
     "output_type": "stream",
     "text": [
      "RFC Results:\n",
      "                   precision    recall  f1-score   support\n",
      "\n",
      "     Alternative       0.00      0.00      0.00         3\n",
      "           Anime       0.00      0.00      0.00         5\n",
      "           Blues       0.00      0.00      0.00         8\n",
      "Children’s Music       0.00      0.00      0.00         2\n",
      "         Country       0.00      0.00      0.00         2\n",
      "           Dance       0.04      0.06      0.05        33\n",
      "            Folk       0.00      0.00      0.00         1\n",
      "         Hip-Hop       0.06      0.06      0.06        31\n",
      "           Indie       0.00      0.00      0.00         3\n",
      "           Movie       0.00      0.00      0.00         0\n",
      "             Pop       0.24      0.25      0.24        89\n",
      "             R&B       0.00      0.00      0.00         6\n",
      "             Rap       0.10      0.07      0.08        44\n",
      "       Reggaeton       0.33      0.15      0.21        13\n",
      "            Rock       0.10      0.10      0.10        10\n",
      "\n",
      "        accuracy                           0.13       250\n",
      "       macro avg       0.06      0.05      0.05       250\n",
      "    weighted avg       0.14      0.13      0.13       250\n",
      "\n"
     ]
    }
   ],
   "source": [
    "# Q8: YOUR CODE GOES HERE.\n",
    "# (...)\n",
    "\n",
    "# Q8: Sample answer.\n",
    "# train a random forest classifier\n",
    "genre_forest = RandomForestClassifier(random_state=31337)\n",
    "genre_forest.fit(train_features, train_labels)\n",
    "\n",
    "# predict labels on test data\n",
    "pred_labels_forest = genre_forest.predict(test_features)\n",
    "\n",
    "forest_results = classification_report(test_labels, pred_labels_forest)\n",
    "print('RFC Results:\\n',  forest_results)"
   ]
  },
  {
   "cell_type": "markdown",
   "metadata": {},
   "source": [
    "Another problem here is that not only do we have a small dataset, but we also have a large number of genres relative to the size of the dataset.\n",
    "\n",
    "Let's try and see if we can do better with more samples by using the larger dataset, and also reducing it down to prediction of only 3 mainstream genres:\n",
    "\n",
    "**Q9: How many samples do we have per genre on the larger dataset (`df` pd dataframe)?** \n",
    "\n",
    "**A:** From the results below, we can see that aside from \"A Capella\" we have around 8k to under 10k samples per genre."
   ]
  },
  {
   "cell_type": "code",
   "execution_count": 21,
   "metadata": {},
   "outputs": [
    {
     "data": {
      "text/plain": [
       "A Capella            119\n",
       "Alternative         9353\n",
       "Anime               9353\n",
       "Blues               9353\n",
       "Children’s Music    9353\n",
       "Classical           9256\n",
       "Comedy              9681\n",
       "Country             8664\n",
       "Dance               8701\n",
       "Electronic          9377\n",
       "Folk                9299\n",
       "Hip-Hop             9295\n",
       "Indie               9543\n",
       "Jazz                9441\n",
       "Movie               7806\n",
       "Opera               8280\n",
       "Pop                 9386\n",
       "R&B                 8992\n",
       "Rap                 9232\n",
       "Reggae              8771\n",
       "Reggaeton           8927\n",
       "Rock                9272\n",
       "Ska                 8874\n",
       "Soul                9089\n",
       "Soundtrack          9646\n",
       "World               9096\n",
       "Name: genre, dtype: int64"
      ]
     },
     "execution_count": 21,
     "metadata": {},
     "output_type": "execute_result"
    }
   ],
   "source": [
    "# Q9: YOUR CODE GOES HERE.\n",
    "# df.(...)\n",
    "\n",
    "# Q9: Sample answer.\n",
    "df['genre'].value_counts().sort_index()"
   ]
  },
  {
   "cell_type": "markdown",
   "metadata": {},
   "source": [
    "This may be enough, but as we can see the number of samples is not exactly balanced for each genre, so we may still get some bias.  Also, it's a fair amount of genres, so let's pick 3 common ones and see how we can do at that task. We'll go with \"Hip-Hop\", \"Rock\", and \"Jazz\", which should be different enough from each other:"
   ]
  },
  {
   "cell_type": "code",
   "execution_count": 22,
   "metadata": {},
   "outputs": [],
   "source": [
    "hip_hop = df.loc[df['genre'] == 'Hip-Hop']\n",
    "rock = df.loc[df['genre'] == 'Rock']\n",
    "jazz = df.loc[df['genre'] == 'Jazz']\n",
    "\n",
    "# make it equal number of songs for each\n",
    "hip_hop = hip_hop.sample(n=len(rock), random_state=31337)\n",
    "jazz = jazz.sample(n=len(rock), random_state=31337)\n",
    "df = pd.concat([rock, hip_hop, jazz])"
   ]
  },
  {
   "cell_type": "markdown",
   "metadata": {},
   "source": [
    "And train our forest on this larger dataset:"
   ]
  },
  {
   "cell_type": "code",
   "execution_count": 23,
   "metadata": {},
   "outputs": [],
   "source": [
    "# select only numerical features\n",
    "df_numerical = df.select_dtypes(exclude=[np.object])\n",
    "X = np.array(df_numerical)\n",
    "\n",
    "# scaling won't make a difference for classifiers, but we leave it here in case you want to try other models\n",
    "#scaler = StandardScaler()\n",
    "#scaler.fit(X)\n",
    "#X = scaler.transform(X)\n",
    "\n",
    "# features and label\n",
    "features = X\n",
    "labels = df['genre']\n",
    "\n",
    "# split our data into training and test\n",
    "train_features, test_features, train_labels, test_labels = train_test_split(features, labels, random_state=31337)\n",
    "\n",
    "# train a RFC on it\n",
    "genre_forest = RandomForestClassifier(random_state=31337)\n",
    "genre_forest.fit(train_features, train_labels)\n",
    "\n",
    "# predict labels on test data\n",
    "pred_labels_forest = genre_forest.predict(test_features)"
   ]
  },
  {
   "cell_type": "markdown",
   "metadata": {},
   "source": [
    "Let's see how we did this time around:"
   ]
  },
  {
   "cell_type": "code",
   "execution_count": 24,
   "metadata": {},
   "outputs": [
    {
     "name": "stdout",
     "output_type": "stream",
     "text": [
      "RFC Results:\n",
      "               precision    recall  f1-score   support\n",
      "\n",
      "     Hip-Hop       0.86      0.89      0.88      2345\n",
      "        Jazz       0.92      0.91      0.92      2264\n",
      "        Rock       0.87      0.85      0.86      2345\n",
      "\n",
      "    accuracy                           0.88      6954\n",
      "   macro avg       0.88      0.88      0.88      6954\n",
      "weighted avg       0.88      0.88      0.88      6954\n",
      "\n"
     ]
    }
   ],
   "source": [
    "genre_forest_results = classification_report(test_labels, pred_labels_forest)\n",
    "print('RFC Results:\\n',  genre_forest_results)"
   ]
  },
  {
   "cell_type": "markdown",
   "metadata": {},
   "source": [
    "This time around we did a lot better: 92% precision for Jazz, and an average precision of 88% for all 3 genres.\n",
    "\n",
    "**Q10: To try on your own: train a [`DecisionTreeClassifier`](https://scikit-learn.org/stable/modules/generated/sklearn.tree.DecisionTreeClassifier.html) with different values of `max_depth` and use `tree.plot()` to [`plot it`](https://scikit-learn.org/stable/modules/tree.html).**\n",
    "\n",
    "**What are some pros/cons of using a decision tree vs a random forest classifier?**"
   ]
  },
  {
   "cell_type": "code",
   "execution_count": 25,
   "metadata": {},
   "outputs": [
    {
     "data": {
      "image/png": "[encoded data removed]",
      "text/plain": [
       "<Figure size 1440x1080 with 1 Axes>"
      ]
     },
     "metadata": {
      "needs_background": "light"
     },
     "output_type": "display_data"
    }
   ],
   "source": [
    "# Q10: YOUR CODE GOES HERE\n",
    "# (...)\n",
    "\n",
    "\n",
    "# Q10: Sample answer.\n",
    "\n",
    "# train a decision tree on it with small depth, e.g., k=2\n",
    "genre_tree = DecisionTreeClassifier(random_state=31337, max_depth=2)\n",
    "genre_tree.fit(train_features, train_labels)\n",
    "\n",
    "# predict labels on test data\n",
    "pred_labels_tree = genre_tree.predict(test_features)\n",
    "\n",
    "# plot tree using sklearn's plot_tree. you can also try using more\n",
    "# advanced tree visualizations, e.g., https://explained.ai/decision-tree-viz/\n",
    "feature_names = list(df_numerical.columns)\n",
    "plt.figure(figsize=(20,15))\n",
    "tree.plot_tree(genre_tree.fit(train_features, train_labels),\n",
    "               feature_names=feature_names,\n",
    "               class_names=genre_tree.classes_,\n",
    "               filled=True,\n",
    "               proportion=True,\n",
    "               precision=1,\n",
    "               rounded=True,\n",
    "               rotate=True)\n",
    "plt.show()"
   ]
  },
  {
   "cell_type": "markdown",
   "metadata": {},
   "source": [
    "### b) popularity prediction\n",
    "\n",
    "Let's use what we learned above to try out another prediction task: song popularity. First, we'll do some feature engineering:"
   ]
  },
  {
   "cell_type": "code",
   "execution_count": 26,
   "metadata": {},
   "outputs": [],
   "source": [
    "# make sure we start with a clean slate\n",
    "df = pd.read_csv('data/spotify_songs.csv')\n",
    "\n",
    "# hot-encode \"mode\" categorical column\n",
    "df.loc[df['mode'] == 'Major', 'mode'] = 1\n",
    "df.loc[df['mode'] == 'Minor', 'mode'] = 0\n",
    "\n",
    "# hot-encode \"key\" categorical columns, i.e.,\n",
    "# A -> 0, A# -> 1, etc.\n",
    "keys = df['key'].unique()\n",
    "for i in range(len(keys)):\n",
    "    df.loc[df['key'] == keys[i], 'key'] = i\n",
    "\n",
    "# ditto for time signatures\n",
    "signatures = df['time_signature'].unique()\n",
    "for i in range(len(signatures)):\n",
    "    df.loc[df['time_signature'] == signatures[i], 'time_signature'] = i"
   ]
  },
  {
   "cell_type": "markdown",
   "metadata": {},
   "source": [
    "We'll pose our popularity prediction task as a binary decision between \"popular\" and \"unpopular\". Our data is exponentially distributed in terms of popularity (**how can we check that?**), so we'll choose a cutoff at the 75th percentile to split our songs at:"
   ]
  },
  {
   "cell_type": "code",
   "execution_count": 27,
   "metadata": {},
   "outputs": [],
   "source": [
    "# convert popularity from [1, 100] to \"popular\" or \"not popular\" by splitting below and above the 75th %\n",
    "pop_75th = np.percentile(df['popularity'], 75)\n",
    "df.loc[df['popularity'] < pop_75th, 'popularity'] = 0 \n",
    "df.loc[df['popularity'] >= pop_75th, 'popularity'] = 1"
   ]
  },
  {
   "cell_type": "markdown",
   "metadata": {},
   "source": [
    "And as we've done before, split into train and test datasets. We'll use these to train a [`RandomForestClassifier`](https://scikit-learn.org/stable/modules/generated/sklearn.ensemble.RandomForestClassifier.html):"
   ]
  },
  {
   "cell_type": "code",
   "execution_count": 28,
   "metadata": {},
   "outputs": [],
   "source": [
    "# select only numerical features\n",
    "df_numerical = df.select_dtypes(exclude=[np.object])\n",
    "\n",
    "# remove our label from features\n",
    "df_features = df_numerical.drop(['popularity'], axis=1)\n",
    "\n",
    "# standard scale\n",
    "X = np.array(df_features)\n",
    "scaler = StandardScaler()\n",
    "scaler.fit(X)\n",
    "X = scaler.transform(X)\n",
    "\n",
    "# features and label\n",
    "features = X\n",
    "labels = df['popularity']\n",
    "\n",
    "# split our data into training and test, reserving 20% of rows for test set\n",
    "train_features, test_features, train_labels, test_labels = train_test_split(features,\n",
    "                                                                            labels, test_size=0.2, random_state=31337)"
   ]
  },
  {
   "cell_type": "markdown",
   "metadata": {},
   "source": [
    "And let's train a few other ML algos (some more powerful) on these:"
   ]
  },
  {
   "cell_type": "code",
   "execution_count": 29,
   "metadata": {},
   "outputs": [
    {
     "name": "stdout",
     "output_type": "stream",
     "text": [
      "RFC Accuracy: 0.9356811009817672\n",
      "RFC AUC: 0.8917930261499624\n"
     ]
    }
   ],
   "source": [
    "# train RFC\n",
    "rfc = RandomForestClassifier(random_state=31337)\n",
    "rfc.fit(train_features, train_labels)\n",
    "\n",
    "# predict labels on test data\n",
    "pred_labels_rfc = rfc.predict(test_features)\n",
    "accuracy_rfc = accuracy_score(test_labels, pred_labels_rfc)\n",
    "print('RFC Accuracy: ' + str(accuracy_rfc))\n",
    "\n",
    "auc_rfc = roc_auc_score(test_labels, pred_labels_rfc)\n",
    "print('RFC AUC: ' + str(auc_rfc))"
   ]
  },
  {
   "cell_type": "markdown",
   "metadata": {},
   "source": [
    "Not bad!\n",
    "\n",
    "Now go forth and **try out for yourself with other models, and compare their performance**. In particular, we recommend you try out `xgboost`'s [`XGBClassifier`](https://xgboost.readthedocs.io/en/latest/python/index.html), [KNeighborsClassifier](https://scikit-learn.org/stable/modules/generated/sklearn.neighbors.KNeighborsClassifier.html), and [LinearSVC](https://scikit-learn.org/stable/modules/generated/sklearn.svm.LinearSVC.html) and see how those do on the same task. Do they beat the RFC above?\n",
    "\n",
    "You can also try out regression on the `popularity` ranks, instead of the binary decision classification problem we formulated above."
   ]
  },
  {
   "cell_type": "code",
   "execution_count": 30,
   "metadata": {},
   "outputs": [
    {
     "name": "stdout",
     "output_type": "stream",
     "text": [
      "XGBC Accuracy: 0.7487508765778401\n",
      "XGBC AUC: 0.5\n"
     ]
    }
   ],
   "source": [
    "# Q11: YOUR CODE GOES HERE\n",
    "# Try out xgboost's XGBClassifier as well as try and formulate the problem as a regression on popularity ranks.\n",
    "\n",
    "# Q11: Sample answer.\n",
    "\n",
    "# XGBClassifier on binary decision classification problem\n",
    "xgbc = XGBClassifier(objective = \"binary:logistic\", n_estimators=15, seed = 31337)\n",
    "xgbc.fit(train_features, train_labels)\n",
    "pred_labels_xgbc = xgbc.predict(test_features)\n",
    "accuracy_xgbc = accuracy_score(test_labels, pred_labels_xgbc)\n",
    "print(\"XGBC Accuracy: \" + str(accuracy_xgbc))\n",
    "\n",
    "auc_xgbc = roc_auc_score(test_labels, pred_labels_xgbc) \n",
    "print(\"XGBC AUC: \" + str(auc_xgbc))"
   ]
  }
 ],
 "metadata": {
  "kernelspec": {
   "display_name": "Python 3",
   "language": "python",
   "name": "python3"
  },
  "language_info": {
   "codemirror_mode": {
    "name": "ipython",
    "version": 3
   },
   "file_extension": ".py",
   "mimetype": "text/x-python",
   "name": "python",
   "nbconvert_exporter": "python",
   "pygments_lexer": "ipython3",
   "version": "3.6.8"
  }
 },
 "nbformat": 4,
 "nbformat_minor": 2
}
